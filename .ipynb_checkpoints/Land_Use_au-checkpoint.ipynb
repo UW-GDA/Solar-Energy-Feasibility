{
 "cells": [
  {
   "cell_type": "markdown",
   "id": "19729c25-f317-4439-a915-db23ad5810f4",
   "metadata": {},
   "source": [
    "# Land Use in Spokane\n",
    "## Areeba Usman & Rose Martin\n",
    "\n",
    "--------"
   ]
  },
  {
   "cell_type": "markdown",
   "id": "649c94ad-9251-47c9-8011-262fdb91971b",
   "metadata": {},
   "source": [
    "#### Import Packages and Install Census Data"
   ]
  },
  {
   "cell_type": "code",
   "execution_count": 1,
   "id": "92110d96-5d35-4f18-9c50-3d1ffaca2dd9",
   "metadata": {},
   "outputs": [],
   "source": [
    "import os\n",
    "import zipfile\n",
    "import rasterio\n",
    "import requests\n",
    "import shutil\n",
    "\n",
    "import numpy as np\n",
    "import xarray as xr\n",
    "import rioxarray as rxr\n",
    "import geopandas as gpd\n",
    "import contextily as ctx\n",
    "import matplotlib.pyplot as plt\n",
    "\n",
    "from rasterio.features import shapes\n",
    "from shapely.geometry import shape"
   ]
  },
  {
   "cell_type": "code",
   "execution_count": 2,
   "id": "690bfc1b-548c-419d-ad1f-e36c2d65b01d",
   "metadata": {},
   "outputs": [],
   "source": [
    "!pip install -q censusdata"
   ]
  },
  {
   "cell_type": "raw",
   "id": "4199ddf4-1819-4385-a006-89684fce8587",
   "metadata": {
    "jupyter": {
     "source_hidden": true
    }
   },
   "source": [
    "def get_census_data(tables, state, county, year=2019):\n",
    "    '''Download census data for a given state and county fips code.'''\n",
    "\n",
    "    data = censusdata.download('acs5', year, censusdata.censusgeo([('state', state), ('county', county), ('tract', '*')]), list(tables.keys()))\n",
    "\n",
    "    data.rename(columns=tables, inplace=True)\n",
    "\n",
    "    data['Name'] = data.index.to_series().apply(lambda x: x.name)\n",
    "    data['SummaryLevel'] = data.index.to_series().apply(lambda x: x.sumlevel())\n",
    "    data['State'] = data.index.to_series().apply(lambda x: x.geo[0][1])\n",
    "    data['County'] = data.index.to_series().apply(lambda x: x.geo[1][1])\n",
    "    data['Tract'] = data.index.to_series().apply(lambda x: x.geo[2][1])\n",
    "    data.reset_index(drop=True, inplace=True)\n",
    "    data = data[['Tract','Name']+list(tables.values())].set_index('Tract')\n",
    "    \n",
    "    return data"
   ]
  },
  {
   "cell_type": "raw",
   "id": "c6ffbaee-0912-4186-8836-1ff68ec2b3b8",
   "metadata": {
    "jupyter": {
     "source_hidden": true
    }
   },
   "source": [
    "def get_census_tract_geom(state_fips, county_fips):\n",
    "    '''Download census tract geometries for a given state and county fips code, storing in /tmp and cleaning up after.'''\n",
    "\n",
    "    temp_dir = \"/tmp/census_tracts\"\n",
    "    zip_path = os.path.join(temp_dir, f'tl_2019_{state_fips}_tract.zip')\n",
    "\n",
    "    os.makedirs(temp_dir, exist_ok=True)\n",
    "\n",
    "    url = f'https://www2.census.gov/geo/tiger/TIGER2019/TRACT/tl_2019_{state_fips}_tract.zip'\n",
    "    response = requests.get(url, stream=True)\n",
    "   \n",
    "    if response.status_code != 200:\n",
    "        raise Exception(f\"Failed to download file: {url}\")\n",
    "        \n",
    "    with open(zip_path, \"wb\") as file:\n",
    "        file.write(response.content)\n",
    "\n",
    "    with zipfile.ZipFile(zip_path, \"r\") as zip_ref:\n",
    "        zip_ref.extractall(temp_dir)\n",
    "\n",
    "    for file in os.listdir(temp_dir):\n",
    "        if file.endswith(\".shp\"):\n",
    "            shapefile_path = os.path.join(temp_dir, file)\n",
    "            break\n",
    "\n",
    "    tracts = gpd.read_file(shapefile_path)\n",
    "\n",
    "    tracts = tracts[tracts['COUNTYFP'] == county_fips]\n",
    "    tracts = tracts.rename(columns={'TRACTCE': 'Tract'}).set_index('Tract')\n",
    "\n",
    "    shutil.rmtree(temp_dir)\n",
    "\n",
    "    return tracts[['geometry']]"
   ]
  },
  {
   "cell_type": "markdown",
   "id": "691366f4-69d7-4dba-b869-6e2ba6278050",
   "metadata": {},
   "source": [
    "---\n",
    "#### Overlaying by difference to remove parks, and other no build areas from boundaries"
   ]
  },
  {
   "cell_type": "code",
   "execution_count": 3,
   "id": "81b93b01-e514-4bae-b709-3d2504d16718",
   "metadata": {},
   "outputs": [],
   "source": [
    "## PARKS\n",
    "parks_gdf = gpd.read_file(\"./Data/protected_places.geojson\")\n",
    "\n",
    "## SPOKANE VOTING PRECINCTS\n",
    "boundaries = gpd.read_file(\"./Data/voting_precinct_boundaries.geojson\")"
   ]
  },
  {
   "cell_type": "code",
   "execution_count": 4,
   "id": "a178c6e8-96bd-4c09-b053-2f7af4323ea8",
   "metadata": {},
   "outputs": [],
   "source": [
    "spokane_gdf = boundaries.to_crs(parks_gdf.crs)\n",
    "spokane_gdf = spokane_gdf.overlay(parks_gdf, how='difference')\n",
    "\n",
    "#spokane_gdf.plot()"
   ]
  },
  {
   "cell_type": "markdown",
   "id": "6d9233d7-9b05-4cbe-800c-bd721555fabf",
   "metadata": {},
   "source": [
    "---\n",
    "## Land Cover"
   ]
  },
  {
   "cell_type": "code",
   "execution_count": 5,
   "id": "9f2e24e9-f65c-4476-a180-5faa8820fb61",
   "metadata": {},
   "outputs": [],
   "source": [
    "dst_crs = 'EPSG:4326'"
   ]
  },
  {
   "cell_type": "code",
   "execution_count": 6,
   "id": "11d6c67f-d409-4d68-b066-25b40bab5a7d",
   "metadata": {},
   "outputs": [],
   "source": [
    "land_use_fn = \"./Data/land_use.tif\""
   ]
  },
  {
   "cell_type": "code",
   "execution_count": 7,
   "id": "445b3ab5-fe78-4fcf-b547-7719b3842532",
   "metadata": {},
   "outputs": [],
   "source": [
    "proj_land_fn = os.path.splitext(land_use_fn)[0]+'_utm_gdalwarp.tif'"
   ]
  },
  {
   "cell_type": "code",
   "execution_count": 8,
   "id": "143d6f04-29c6-4d4f-93f0-324d03fca6ac",
   "metadata": {},
   "outputs": [
    {
     "name": "stdout",
     "output_type": "stream",
     "text": [
      "Creating output file that is 800P x 800L.\n",
      "Copying nodata values from source ./Data/land_use.tif to destination ./Data/land_use_utm_gdalwarp.tif.\n",
      "100 - done../Data/land_use.tif [1/1] : 0...10...20...30...40...50...60...70...80...90...\n"
     ]
    }
   ],
   "source": [
    "!gdalwarp -srcnodata 0 -t_srs $dst_crs $land_use_fn $proj_land_fn"
   ]
  },
  {
   "cell_type": "code",
   "execution_count": 9,
   "id": "d702195f-f9ae-4fc5-a2d0-fa5821796d6a",
   "metadata": {},
   "outputs": [],
   "source": [
    "land_use_da = rxr.open_rasterio(proj_land_fn).squeeze()"
   ]
  },
  {
   "cell_type": "markdown",
   "id": "f2850661-f464-4a0b-b4c7-8300bde41b49",
   "metadata": {},
   "source": [
    "## Radiation"
   ]
  },
  {
   "cell_type": "code",
   "execution_count": 10,
   "id": "d37a7254-9a00-4181-87aa-367b7a286924",
   "metadata": {},
   "outputs": [],
   "source": [
    "radiation_fn = \"./Data/radiation.tif\""
   ]
  },
  {
   "cell_type": "code",
   "execution_count": 11,
   "id": "17747435-28d5-4c0c-b175-b5f0688d2e72",
   "metadata": {},
   "outputs": [],
   "source": [
    "proj_ra_fn = os.path.splitext(radiation_fn)[0]+'_utm_gdalwarp.tif'"
   ]
  },
  {
   "cell_type": "code",
   "execution_count": 12,
   "id": "191f5f76-c3d9-4abd-9ccb-d85189c02392",
   "metadata": {},
   "outputs": [
    {
     "name": "stdout",
     "output_type": "stream",
     "text": [
      "Creating output file that is 800P x 800L.\n",
      "Copying nodata values from source ./Data/radiation.tif to destination ./Data/radiation_utm_gdalwarp.tif.\n",
      "...10...20...30...40...50...60...70...80...90...100 - done.\n"
     ]
    }
   ],
   "source": [
    "!gdalwarp -srcnodata 0 -t_srs $dst_crs $radiation_fn $proj_ra_fn"
   ]
  },
  {
   "cell_type": "code",
   "execution_count": 13,
   "id": "0b8a3e2c-51d0-4d2d-a4cc-19b1b9259f91",
   "metadata": {},
   "outputs": [],
   "source": [
    "radiation_da = rxr.open_rasterio(proj_ra_fn).squeeze()"
   ]
  },
  {
   "cell_type": "markdown",
   "id": "e8e5f2f5-6cac-4d33-802a-269e2f482f69",
   "metadata": {},
   "source": [
    "## plots"
   ]
  },
  {
   "cell_type": "raw",
   "id": "ae14d3cf-5221-4bd3-897e-6a53179f3165",
   "metadata": {},
   "source": [
    "X, Y = np.meshgrid(land_use_da.x.values, land_use_da.y.values)\n",
    "plt.pcolormesh(X, Y, land_use_da.values, cmap='Greens')"
   ]
  },
  {
   "cell_type": "raw",
   "id": "d74346d8-008d-44de-ae48-3334bd1e35b2",
   "metadata": {},
   "source": [
    "radiation_da.plot.imshow(cmap='gist_heat')"
   ]
  },
  {
   "cell_type": "markdown",
   "id": "09c7ed4c-59a1-4585-9483-a9f23162eb8c",
   "metadata": {},
   "source": [
    "---"
   ]
  },
  {
   "cell_type": "code",
   "execution_count": null,
   "id": "5f024d8f-4aaa-4f9e-af78-9efc057d2d49",
   "metadata": {},
   "outputs": [],
   "source": []
  }
 ],
 "metadata": {
  "kernelspec": {
   "display_name": "Python 3 (ipykernel)",
   "language": "python",
   "name": "python3"
  },
  "language_info": {
   "codemirror_mode": {
    "name": "ipython",
    "version": 3
   },
   "file_extension": ".py",
   "mimetype": "text/x-python",
   "name": "python",
   "nbconvert_exporter": "python",
   "pygments_lexer": "ipython3",
   "version": "3.11.6"
  }
 },
 "nbformat": 4,
 "nbformat_minor": 5
}
