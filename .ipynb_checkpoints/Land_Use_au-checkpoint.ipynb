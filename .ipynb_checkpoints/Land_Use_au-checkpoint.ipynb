{
 "cells": [
  {
   "cell_type": "markdown",
   "id": "19729c25-f317-4439-a915-db23ad5810f4",
   "metadata": {},
   "source": [
    "# Land Use in Spokane\n",
    "## Areeba Usman & Rose Martin\n",
    "\n",
    "--------"
   ]
  },
  {
   "cell_type": "markdown",
   "id": "649c94ad-9251-47c9-8011-262fdb91971b",
   "metadata": {},
   "source": [
    "#### Import Packages and Install Census Data"
   ]
  },
  {
   "cell_type": "code",
   "execution_count": 1,
   "id": "92110d96-5d35-4f18-9c50-3d1ffaca2dd9",
   "metadata": {},
   "outputs": [],
   "source": [
    "import os\n",
    "import zipfile\n",
    "import rasterio\n",
    "import requests\n",
    "import shutil\n",
    "\n",
    "import xarray as xr\n",
    "import rioxarray as rxr\n",
    "import geopandas as gpd\n",
    "import numpy as np\n",
    "import matplotlib.pyplot as plt\n",
    "\n",
    "from rasterio.features import shapes\n",
    "from shapely.geometry import shape"
   ]
  },
  {
   "cell_type": "code",
   "execution_count": null,
   "id": "690bfc1b-548c-419d-ad1f-e36c2d65b01d",
   "metadata": {},
   "outputs": [],
   "source": [
    "!pip install -q censusdata"
   ]
  },
  {
   "cell_type": "markdown",
   "id": "6d9233d7-9b05-4cbe-800c-bd721555fabf",
   "metadata": {},
   "source": [
    "## Land Cover Data"
   ]
  },
  {
   "cell_type": "code",
   "execution_count": 3,
   "id": "91caf41d-2f16-49d7-bdc7-02022bf943e6",
   "metadata": {},
   "outputs": [
    {
     "name": "stdout",
     "output_type": "stream",
     "text": [
      "No image URL found in response.\n"
     ]
    }
   ],
   "source": [
    "url = \"https://earthobs3.arcgis.com/arcgis/rest/services/ESA_CCI_Land_Cover_Time_Series/ImageServer\"\n",
    "\n",
    "bbox = \"-117.823629,47.259272,-117.039763,48.047877\"\n",
    "\n",
    "params = {\n",
    "    \"bbox\": \"-117.823629,47.259272,-117.039763,48.047877\",  # Remove the extra value\n",
    "    \"bboxSR\": \"4326\",\n",
    "    \"imageSR\": \"4326\",\n",
    "    \"size\": \"4000,4000\", \n",
    "    \"format\": \"tiff\",  \n",
    "    \"f\": \"json\",\n",
    "}\n",
    "\n",
    "# Request the image\n",
    "response = requests.get(url, params=params)\n",
    "\n",
    "if response.status_code == 200:\n",
    "    image_data = response.json()\n",
    "    image_url = image_data.get(\"href\", None)  # Extract image URL\n",
    "\n",
    "    if image_url:\n",
    "        print(f\"Downloading image from: {image_url}\")\n",
    "\n",
    "        # Download the raster image\n",
    "        image_response = requests.get(image_url)\n",
    "        image_filename = \"Data/land_use.tif\"\n",
    "\n",
    "        with open(image_filename, \"wb\") as file:\n",
    "            file.write(image_response.content)\n",
    "\n",
    "        print(f\"Image saved\")\n",
    "    else:\n",
    "        print(\"No image URL found in response.\")\n",
    "else:\n",
    "    print(f\"Failed to fetch data: {response.status_code}, Response: {response.text}\")"
   ]
  },
  {
   "cell_type": "markdown",
   "id": "e8588ffd-e0b5-4b24-969b-5c60d7219fec",
   "metadata": {},
   "source": [
    "#### Opening file and projecting to WGS 84"
   ]
  },
  {
   "cell_type": "code",
   "execution_count": null,
   "id": "d37a7254-9a00-4181-87aa-367b7a286924",
   "metadata": {},
   "outputs": [],
   "source": [
    "land_use_fn = \"./Data/spokane_landcover.tif\"\n",
    "\n",
    "proj_fn = os.path.splitext(land_use_fn)[0]+'_utm_gdalwarp.tif'\n",
    "dst_crs = 'EPSG:4326'"
   ]
  },
  {
   "cell_type": "code",
   "execution_count": null,
   "id": "17747435-28d5-4c0c-b175-b5f0688d2e72",
   "metadata": {},
   "outputs": [],
   "source": [
    "!gdalwarp -srcnodata 0 -t_srs $dst_crs $land_use_fn $proj_fn"
   ]
  },
  {
   "cell_type": "code",
   "execution_count": null,
   "id": "0b8a3e2c-51d0-4d2d-a4cc-19b1b9259f91",
   "metadata": {},
   "outputs": [],
   "source": [
    "land_use_da = rxr.open_rasterio(land_use_fn).squeeze()"
   ]
  },
  {
   "cell_type": "code",
   "execution_count": null,
   "id": "11989c16-0936-441d-a91a-16de715dabe7",
   "metadata": {},
   "outputs": [],
   "source": [
    "#land_use_da.plot.imshow(cmap='inferno')"
   ]
  },
  {
   "cell_type": "markdown",
   "id": "20f326d0-3c6f-4a93-b90e-dedd7e7cd52c",
   "metadata": {},
   "source": [
    "## Radiation Data"
   ]
  },
  {
   "cell_type": "code",
   "execution_count": 2,
   "id": "7b204123-d247-46ae-b05f-d9f16a26d7f8",
   "metadata": {},
   "outputs": [
    {
     "name": "stdout",
     "output_type": "stream",
     "text": [
      "Downloading image from: https://gis.earthdata.nasa.gov/image/rest/directories/arcgisoutput/POWER/POWER_901_MONTHLY_RADIATION_UTC_ImageServer/_ags_d204423e_684d_4eb0_b675_e6896719a8ee.tif\n",
      "Image saved\n"
     ]
    }
   ],
   "source": [
    "# Define the ImageServer exportImage URL\n",
    "server_url = \"https://gis.earthdata.nasa.gov/image/rest/services/POWER/POWER_901_MONTHLY_RADIATION_UTC/ImageServer/exportImage\"\n",
    "\n",
    "# Define parameters for exporting an image\n",
    "params = {\n",
    "    \"bbox\": \"-117.823629,47.259272,-117.039763,48.047877,53063\",  # Bounding box covering Spokane County\n",
    "    \"bboxSR\": \"4326\",\n",
    "    \"imageSR\": \"4326\",\n",
    "    \"size\": \"4000,4000\",  # Resolution of the image\n",
    "    \"format\": \"tiff\",  # Use \"png\" if you prefer a simple image\n",
    "    \"f\": \"json\",\n",
    "}\n",
    "\n",
    "# Request the image\n",
    "response = requests.get(server_url, params=params)\n",
    "\n",
    "if response.status_code == 200:\n",
    "    image_data = response.json()\n",
    "    image_url = image_data.get(\"href\", None)  # Extract image URL\n",
    "\n",
    "    if image_url:\n",
    "        print(f\"Downloading image from: {image_url}\")\n",
    "\n",
    "        # Download the raster image\n",
    "        image_response = requests.get(image_url)\n",
    "        image_filename = \"Data/radiation.tif\"\n",
    "\n",
    "        with open(image_filename, \"wb\") as file:\n",
    "            file.write(image_response.content)\n",
    "\n",
    "        print(f\"Image saved\")\n",
    "    else:\n",
    "        print(\"No image URL found in response.\")\n",
    "else:\n",
    "    print(f\"Failed to fetch data: {response.status_code}, Response: {response.text}\")"
   ]
  },
  {
   "cell_type": "code",
   "execution_count": 4,
   "id": "050853f2-09f9-48fe-b5bc-a84cde027e2b",
   "metadata": {},
   "outputs": [],
   "source": [
    "radiation_fn = \"Data/radiation.tif\"\n",
    "radiation_da = rxr.open_rasterio(radiation_fn)"
   ]
  },
  {
   "cell_type": "code",
   "execution_count": 5,
   "id": "e93e7ba0-c35e-4240-b7e7-6c629cfdf808",
   "metadata": {},
   "outputs": [],
   "source": [
    "data = radiation_da.squeeze()\n",
    "mask = radiation_da.notnull()\n",
    "transform = radiation_da.rio.transform()\n",
    "\n",
    "results = shapes(radiation_da.values, mask=mask.values, transform=transform)\n",
    "\n",
    "polygons = []\n",
    "for geom, value in results:\n",
    "    geom = shape(geom) \n",
    "    if geom.is_valid:  \n",
    "        polygons.append(geom)\n",
    "\n",
    "radiation_gdf = gpd.GeoDataFrame(geometry=polygons)\n",
    "\n",
    "radiation_gdf.to_file(\"Data/output_radiation_polygons.geojson\", driver=\"GeoJSON\")"
   ]
  },
  {
   "cell_type": "raw",
   "id": "0249b9a5-ce66-4435-90c2-356a759649b2",
   "metadata": {},
   "source": [
    "f, ax = plt.subplots()\n",
    "\n",
    "land_use_da.plot.imshow(ax=ax, cmap='inferno')\n",
    "\n",
    "radiation_da.plot.imshow(ax=ax, cmap='gist_heat', alpha=0.5) \n",
    "\n",
    "plt.show()"
   ]
  },
  {
   "cell_type": "markdown",
   "id": "31ef3f88-1a31-4174-a609-5c9245653839",
   "metadata": {},
   "source": [
    "## Parks & Protected Lands GDF"
   ]
  },
  {
   "cell_type": "code",
   "execution_count": null,
   "id": "58b0d086-0908-4385-b35d-8b3b465231ce",
   "metadata": {},
   "outputs": [],
   "source": [
    "parks_gdf = gpd.read_file('./Data/Park_Boundaries.geojson')\n",
    "#parks_gdf.head(3)"
   ]
  },
  {
   "cell_type": "code",
   "execution_count": null,
   "id": "f2d281e0-8cb8-4ccf-bb5e-7423ac7c03f1",
   "metadata": {},
   "outputs": [],
   "source": [
    "hull = tract_geom_gdf.geometry.union_all()\n",
    "parks_gdf.clip(hull);"
   ]
  },
  {
   "cell_type": "markdown",
   "id": "4d333440-0c04-4f55-965f-25d369d7d3cf",
   "metadata": {},
   "source": [
    "### WA Load in"
   ]
  },
  {
   "cell_type": "code",
   "execution_count": null,
   "id": "d14f770e-dd45-411e-827f-09cb2abe506d",
   "metadata": {},
   "outputs": [],
   "source": [
    "states_url = 'http://eric.clst.org/assets/wiki/uploads/Stuff/gz_2010_us_040_00_500k.json'\n",
    "states_gdf = gpd.read_file(states_url)\n",
    "states_gdf.head()\n",
    "\n",
    "## 32048 is the EPSG recommended for Spokane County\n",
    "states_proj_gdf = states_gdf.to_crs(4326)\n",
    "WA_idx = states_proj_gdf[\"NAME\"].isin([\"Washington\"])\n",
    "wa_state_gdf = states_proj_gdf[WA_idx]"
   ]
  },
  {
   "cell_type": "code",
   "execution_count": null,
   "id": "181dc05c-2832-40c8-b76e-d941a94d31c1",
   "metadata": {},
   "outputs": [],
   "source": [
    "#Code taken from lab 5\n",
    "def get_census_data(tables, state, county, year=2019):\n",
    "    '''Download census data for a given state and county fips code.'''\n",
    "\n",
    "    # Download the data\n",
    "    data = censusdata.download('acs5', year,  # Use 2019 ACS 5-year estimates\n",
    "                               censusdata.censusgeo([('state', state), ('county', county), ('tract', '*')]),\n",
    "                               list(tables.keys()))\n",
    "\n",
    "    # Rename the column\n",
    "    data.rename(columns=tables, inplace=True)\n",
    "\n",
    "    # Extract information from the first column\n",
    "    data['Name'] = data.index.to_series().apply(lambda x: x.name)\n",
    "    data['SummaryLevel'] = data.index.to_series().apply(lambda x: x.sumlevel())\n",
    "    data['State'] = data.index.to_series().apply(lambda x: x.geo[0][1])\n",
    "    data['County'] = data.index.to_series().apply(lambda x: x.geo[1][1])\n",
    "    data['Tract'] = data.index.to_series().apply(lambda x: x.geo[2][1])\n",
    "    data.reset_index(drop=True, inplace=True)\n",
    "    data = data[['Tract','Name']+list(tables.values())].set_index('Tract')\n",
    "    \n",
    "    return data\n",
    "\n",
    "def get_census_tract_geom(state_fips, county_fips):\n",
    "    '''Download census tract geometries for a given state and county fips code, storing in /tmp and cleaning up after.'''\n",
    "\n",
    "    temp_dir = \"/tmp/census_tracts\"\n",
    "    zip_path = os.path.join(temp_dir, f'tl_2019_{state_fips}_tract.zip')\n",
    "\n",
    "    # Ensure temp directory exists\n",
    "    os.makedirs(temp_dir, exist_ok=True)\n",
    "\n",
    "    # Download the file\n",
    "    url = f'https://www2.census.gov/geo/tiger/TIGER2019/TRACT/tl_2019_{state_fips}_tract.zip'\n",
    "    response = requests.get(url, stream=True)\n",
    "    if response.status_code != 200:\n",
    "        raise Exception(f\"Failed to download file: {url}\")\n",
    "\n",
    "    # Save ZIP file to temp directory\n",
    "    with open(zip_path, \"wb\") as file:\n",
    "        file.write(response.content)\n",
    "\n",
    "    # Extract the ZIP file\n",
    "    with zipfile.ZipFile(zip_path, \"r\") as zip_ref:\n",
    "        zip_ref.extractall(temp_dir)\n",
    "\n",
    "    # Find the shapefile in extracted contents\n",
    "    for file in os.listdir(temp_dir):\n",
    "        if file.endswith(\".shp\"):\n",
    "            shapefile_path = os.path.join(temp_dir, file)\n",
    "            break\n",
    "\n",
    "    # Read the shapefile into a GeoDataFrame\n",
    "    tracts = gpd.read_file(shapefile_path)\n",
    "\n",
    "    # Filter by county and set index\n",
    "    tracts = tracts[tracts['COUNTYFP'] == county_fips]\n",
    "    tracts = tracts.rename(columns={'TRACTCE': 'Tract'}).set_index('Tract')\n",
    "\n",
    "    # Cleanup: Remove extracted files and ZIP file\n",
    "    shutil.rmtree(temp_dir)\n",
    "\n",
    "    return tracts[['geometry']]"
   ]
  },
  {
   "cell_type": "code",
   "execution_count": null,
   "id": "f64aa5f4-fd50-4564-903a-0e2be2b85317",
   "metadata": {},
   "outputs": [],
   "source": [
    "tables = {\n",
    "'B19013_001E': 'MedianIncome',\n",
    "'B01003_001E': 'TotalPopulation',\n",
    "'B01002_001E': 'MedianAge',\n",
    "'B17001_002E': 'PopulationBelowPovertyLevel',\n",
    "'B02001_002E': 'PopulationWhiteAlone',\n",
    "'B02001_003E': 'PopulationBlackAlone',\n",
    "'B02001_004E': 'PopulationAmericanIndianAlaskaNativeAlone',\n",
    "'B02001_005E': 'PopulationAsianAlone',\n",
    "'B02001_006E': 'PopulationNativeHawaiianPacificIslanderAlone',\n",
    "'B02001_007E': 'PopulationSomeOtherRaceAlone',\n",
    "'B02001_008E': 'PopulationTwoOrMoreRaces',\n",
    "'B03002_003E': 'PopulationNotHispanicWhiteAlone',\n",
    "'B03003_003E': 'PopulationHispanic',\n",
    "'B25064_001E': 'MedianGrossRent',\n",
    "'B25077_001E': 'MedianHomeValue',\n",
    "'B25035_001E': 'MedianYearStructureBuilt',\n",
    "'B25001_001E': 'TotalHousingUnits',\n",
    "'B25004_001E': 'TotalVacantHousingUnits',\n",
    "'B25003_002E': 'OccupiedHousingUnitsOwnerOccupied',\n",
    "'B25003_003E': 'OccupiedHousingUnitsRenterOccupied',\n",
    "'B27001_005E': 'PopulationNoHealthInsuranceCoverage',\n",
    "}"
   ]
  },
  {
   "cell_type": "code",
   "execution_count": null,
   "id": "4ec517fd-2b30-4d05-829f-262ccb780653",
   "metadata": {},
   "outputs": [],
   "source": [
    "import censusdata\n",
    "\n",
    "state_fips = '53'  \n",
    "county_fips = '063' \n",
    "\n",
    "census_df = get_census_data(tables, state_fips, county_fips)\n",
    "tract_geom_gdf = get_census_tract_geom(state_fips, county_fips)\n",
    "\n",
    "census_Spokane_gdf = gpd.GeoDataFrame(census_df.join(tract_geom_gdf))\n",
    "census_Spokane_gdf =  census_Spokane_gdf.to_crs('epsg:32610')"
   ]
  },
  {
   "cell_type": "code",
   "execution_count": null,
   "id": "c15fb4d1-ee94-4a00-90c9-24820c011a4b",
   "metadata": {},
   "outputs": [],
   "source": [
    "census_Spokane_gdf = census_Spokane_gdf.to_crs(parks_gdf.crs)\n",
    "spokane_clipped_gdf = census_Spokane_gdf.overlay(parks_gdf, how='difference')"
   ]
  },
  {
   "cell_type": "code",
   "execution_count": null,
   "id": "57158eb0-1cbd-4684-94c6-459d83081b11",
   "metadata": {},
   "outputs": [],
   "source": [
    "fig, ax = plt.subplots(figsize=(9,6))\n",
    "\n",
    "spokane_clipped_gdf.plot(ax=ax, color=\"green\", edgecolor='black')\n",
    "\n",
    "plt.show()"
   ]
  },
  {
   "cell_type": "code",
   "execution_count": null,
   "id": "bd8181e9-26a0-43dc-9200-f070833b3cff",
   "metadata": {},
   "outputs": [],
   "source": []
  }
 ],
 "metadata": {
  "kernelspec": {
   "display_name": "Python 3 (ipykernel)",
   "language": "python",
   "name": "python3"
  },
  "language_info": {
   "codemirror_mode": {
    "name": "ipython",
    "version": 3
   },
   "file_extension": ".py",
   "mimetype": "text/x-python",
   "name": "python",
   "nbconvert_exporter": "python",
   "pygments_lexer": "ipython3",
   "version": "3.11.6"
  }
 },
 "nbformat": 4,
 "nbformat_minor": 5
}
