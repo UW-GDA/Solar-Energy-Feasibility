{
 "cells": [
  {
   "cell_type": "code",
   "execution_count": null,
   "id": "65984457-e639-4e3b-a3e5-27b656c64a0f",
   "metadata": {},
   "outputs": [],
   "source": [
    "!pip install -q censusdata"
   ]
  },
  {
   "cell_type": "code",
   "execution_count": null,
   "id": "92110d96-5d35-4f18-9c50-3d1ffaca2dd9",
   "metadata": {},
   "outputs": [],
   "source": [
    "import os\n",
    "import requests\n",
    "import numpy as np\n",
    "import pandas as pd\n",
    "import geopandas as gpd\n",
    "import rasterio as rio\n",
    "from rasterio import plot, mask\n",
    "from rasterio.warp import calculate_default_transform, reproject, Resampling\n",
    "import matplotlib.pyplot as plt\n",
    "import rasterstats\n",
    "import rioxarray as rxr\n",
    "from matplotlib_scalebar.scalebar import ScaleBar\n",
    "from pathlib import Path\n",
    "import xarray as xr\n",
    "from shapely.geometry import Point, Polygon\n",
    "import xyzservices.providers as xyz\n",
    "import contextily as ctx\n",
    "import censusdata\n",
    "import seaborn as sns\n",
    "import requests\n",
    "import zipfile\n",
    "import shutil\n",
    "import requests\n"
   ]
  },
  {
   "cell_type": "code",
   "execution_count": null,
   "id": "dc1d95a0-33dd-46c9-a5d3-bcd96ed1068e",
   "metadata": {
    "jupyter": {
     "source_hidden": true
    }
   },
   "outputs": [],
   "source": [
    "states_url = 'http://eric.clst.org/assets/wiki/uploads/Stuff/gz_2010_us_040_00_500k.json'\n",
    "states_gdf = gpd.read_file(states_url)\n",
    "states_gdf.head()\n",
    "\n",
    "## 32048 is the EPSG recommended for Spokane County\n",
    "states_proj_gdf = states_gdf.to_crs(4326)\n",
    "WA_idx = states_proj_gdf[\"NAME\"].isin([\"Washington\"])\n",
    "wa_state_gdf = states_proj_gdf[WA_idx]\n",
    "\n",
    "#Loads the flood plain data for Spokane\n",
    "floodplains_fn = './Data/FEMA_Flood_Zone.geojson'\n",
    "floodplains_gdf = gpd.read_file(floodplains_fn)"
   ]
  },
  {
   "cell_type": "code",
   "execution_count": null,
   "id": "f789ad37-2454-4682-8020-10e6cd4deccc",
   "metadata": {
    "jupyter": {
     "source_hidden": true
    }
   },
   "outputs": [],
   "source": [
    "#Code taken from lab 5\n",
    "def get_census_data(tables, state, county, year=2019):\n",
    "    '''Download census data for a given state and county fips code.'''\n",
    "\n",
    "    # Download the data\n",
    "    data = censusdata.download('acs5', year,  # Use 2019 ACS 5-year estimates\n",
    "                               censusdata.censusgeo([('state', state), ('county', county), ('tract', '*')]),\n",
    "                               list(tables.keys()))\n",
    "\n",
    "    # Rename the column\n",
    "    data.rename(columns=tables, inplace=True)\n",
    "\n",
    "    # Extract information from the first column\n",
    "    data['Name'] = data.index.to_series().apply(lambda x: x.name)\n",
    "    data['SummaryLevel'] = data.index.to_series().apply(lambda x: x.sumlevel())\n",
    "    data['State'] = data.index.to_series().apply(lambda x: x.geo[0][1])\n",
    "    data['County'] = data.index.to_series().apply(lambda x: x.geo[1][1])\n",
    "    data['Tract'] = data.index.to_series().apply(lambda x: x.geo[2][1])\n",
    "    data.reset_index(drop=True, inplace=True)\n",
    "    data = data[['Tract','Name']+list(tables.values())].set_index('Tract')\n",
    "    \n",
    "    return data"
   ]
  },
  {
   "cell_type": "code",
   "execution_count": null,
   "id": "5368b31b-5a4a-4b9c-abdc-a888727dc5d8",
   "metadata": {
    "jupyter": {
     "source_hidden": true
    }
   },
   "outputs": [],
   "source": [
    "def get_census_tract_geom(state_fips, county_fips):\n",
    "    '''Download census tract geometries for a given state and county fips code, storing in /tmp and cleaning up after.'''\n",
    "\n",
    "    temp_dir = \"/tmp/census_tracts\"\n",
    "    zip_path = os.path.join(temp_dir, f'tl_2019_{state_fips}_tract.zip')\n",
    "\n",
    "    # Ensure temp directory exists\n",
    "    os.makedirs(temp_dir, exist_ok=True)\n",
    "\n",
    "    # Download the file\n",
    "    url = f'https://www2.census.gov/geo/tiger/TIGER2019/TRACT/tl_2019_{state_fips}_tract.zip'\n",
    "    response = requests.get(url, stream=True)\n",
    "    if response.status_code != 200:\n",
    "        raise Exception(f\"Failed to download file: {url}\")\n",
    "\n",
    "    # Save ZIP file to temp directory\n",
    "    with open(zip_path, \"wb\") as file:\n",
    "        file.write(response.content)\n",
    "\n",
    "    # Extract the ZIP file\n",
    "    with zipfile.ZipFile(zip_path, \"r\") as zip_ref:\n",
    "        zip_ref.extractall(temp_dir)\n",
    "\n",
    "    # Find the shapefile in extracted contents\n",
    "    for file in os.listdir(temp_dir):\n",
    "        if file.endswith(\".shp\"):\n",
    "            shapefile_path = os.path.join(temp_dir, file)\n",
    "            break\n",
    "\n",
    "    # Read the shapefile into a GeoDataFrame\n",
    "    tracts = gpd.read_file(shapefile_path)\n",
    "\n",
    "    # Filter by county and set index\n",
    "    tracts = tracts[tracts['COUNTYFP'] == county_fips]\n",
    "    tracts = tracts.rename(columns={'TRACTCE': 'Tract'}).set_index('Tract')\n",
    "\n",
    "    # Cleanup: Remove extracted files and ZIP file\n",
    "    shutil.rmtree(temp_dir)\n",
    "\n",
    "    return tracts[['geometry']]"
   ]
  },
  {
   "cell_type": "code",
   "execution_count": null,
   "id": "276876ed-9f97-472b-a9c7-e906d0010f8b",
   "metadata": {},
   "outputs": [],
   "source": [
    "state_fips = '53'  # FIPS code for Washington\n",
    "county_fips = '063'  # FIPS code for Spokane County\n",
    "\n",
    "census_df = get_census_data(tables, state_fips, county_fips)\n",
    "tract_geom_gdf = get_census_tract_geom(state_fips, county_fips)\n",
    "\n",
    "census_spokane_gdf = gpd.GeoDataFrame(census_df.join(tract_geom_gdf))\n",
    "census_spokane_gdf =  census_Spokane_gdf.to_crs('epsg:32610')\n",
    "#census_df.head()"
   ]
  },
  {
   "cell_type": "code",
   "execution_count": 1,
   "id": "c8e4928c-0f5b-4f62-8b58-1659cfddf943",
   "metadata": {},
   "outputs": [
    {
     "ename": "SyntaxError",
     "evalue": "invalid syntax (4280154210.py, line 1)",
     "output_type": "error",
     "traceback": [
      "\u001b[0;36m  Cell \u001b[0;32mIn[1], line 1\u001b[0;36m\u001b[0m\n\u001b[0;31m    var spokane = ee.Geometry.Point([-117.426, 47.658]);\u001b[0m\n\u001b[0m        ^\u001b[0m\n\u001b[0;31mSyntaxError\u001b[0m\u001b[0;31m:\u001b[0m invalid syntax\n"
     ]
    }
   ],
   "source": [
    "var spokane = ee.Geometry.Point([-117.426, 47.658]); \n",
    "var dataset = ee.ImageCollection(\"LANDSAT/LC08/C02/T1_TOA\")\n",
    "  .filterBounds(spokane)\n",
    "  .filter(ee.Filter.lt(\"CLOUD_COVER\", 10))\n",
    "  .sort(\"system:time_start\", false);\n",
    "\n",
    "print(dataset);\n"
   ]
  },
  {
   "cell_type": "code",
   "execution_count": null,
   "id": "4a716ee8-19aa-4d0f-b09c-c758ec57ebc8",
   "metadata": {},
   "outputs": [],
   "source": []
  },
  {
   "cell_type": "code",
   "execution_count": null,
   "id": "0ef0fc4b-1936-4269-9a28-dd6d59dc1967",
   "metadata": {},
   "outputs": [],
   "source": []
  },
  {
   "cell_type": "code",
   "execution_count": null,
   "id": "11989c16-0936-441d-a91a-16de715dabe7",
   "metadata": {},
   "outputs": [],
   "source": []
  },
  {
   "cell_type": "code",
   "execution_count": null,
   "id": "0ec75a2e-f6e4-464c-99ab-a79f54a2f33a",
   "metadata": {},
   "outputs": [],
   "source": []
  },
  {
   "cell_type": "code",
   "execution_count": null,
   "id": "7b204123-d247-46ae-b05f-d9f16a26d7f8",
   "metadata": {},
   "outputs": [],
   "source": []
  },
  {
   "cell_type": "code",
   "execution_count": null,
   "id": "f5bf15a3-e913-45a9-bd1a-1b709fea955e",
   "metadata": {},
   "outputs": [],
   "source": []
  }
 ],
 "metadata": {
  "kernelspec": {
   "display_name": "Python 3 (ipykernel)",
   "language": "python",
   "name": "python3"
  },
  "language_info": {
   "codemirror_mode": {
    "name": "ipython",
    "version": 3
   },
   "file_extension": ".py",
   "mimetype": "text/x-python",
   "name": "python",
   "nbconvert_exporter": "python",
   "pygments_lexer": "ipython3",
   "version": "3.11.6"
  }
 },
 "nbformat": 4,
 "nbformat_minor": 5
}
