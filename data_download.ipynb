{
 "cells": [
  {
   "cell_type": "code",
   "execution_count": 4,
   "id": "0eca646b-1bfd-4063-a11f-7ca328b35a7a",
   "metadata": {},
   "outputs": [],
   "source": [
    "!pip install -q censusdata"
   ]
  },
  {
   "cell_type": "code",
   "execution_count": 5,
   "id": "34a6b4be-fbba-49b9-88e6-f68d51c40ac1",
   "metadata": {},
   "outputs": [],
   "source": [
    "import os\n",
    "import numpy as np\n",
    "import pandas as pd\n",
    "import geopandas as gpd\n",
    "import rasterio as rio\n",
    "from rasterio import plot, mask\n",
    "from rasterio.warp import calculate_default_transform, reproject, Resampling\n",
    "import matplotlib.pyplot as plt\n",
    "import rasterstats\n",
    "import rioxarray as rxr\n",
    "from matplotlib_scalebar.scalebar import ScaleBar\n",
    "from pathlib import Path\n",
    "import xarray as xr\n",
    "from shapely.geometry import Point, Polygon\n",
    "import xyzservices.providers as xyz\n",
    "import contextily as ctx\n",
    "import censusdata\n",
    "import seaborn as sns\n",
    "import requests\n",
    "import zipfile\n",
    "import shutil\n",
    "import requests\n",
    "import rasterio.features \n",
    "from shapely.geometry import shape\n",
    "import censusdata\n",
    "from scipy.spatial import cKDTree\n",
    "from rasterio.transform import from_origin\n",
    "from rasterio.features import rasterize\n",
    "\n"
   ]
  },
  {
   "cell_type": "markdown",
   "id": "29b96782-bbc9-4457-8196-e0b7f9a6f912",
   "metadata": {},
   "source": [
    "## Get Census Data"
   ]
  },
  {
   "cell_type": "markdown",
   "id": "f91f5602-aad3-43d0-ab3b-9deff894df21",
   "metadata": {},
   "source": [
    "Used to project select rasters to an aea crs that is centered in Spokane County"
   ]
  },
  {
   "cell_type": "code",
   "execution_count": 11,
   "id": "e3020903-d073-4ace-9a7d-9a21a4959b6d",
   "metadata": {},
   "outputs": [],
   "source": [
    "#Functions taken from lab 5\n",
    "def get_census_data(tables, state, county, year=2019):\n",
    "    '''Download census data for a given state and county fips code.'''\n",
    "\n",
    "    # Download the data\n",
    "    data = censusdata.download('acs5', year,  # Use 2019 ACS 5-year estimates\n",
    "                               censusdata.censusgeo([('state', state), ('county', county), ('tract', '*')]),\n",
    "                               list(tables.keys()))\n",
    "\n",
    "    # Rename the column\n",
    "    data.rename(columns=tables, inplace=True)\n",
    "\n",
    "    # Extract information from the first column\n",
    "    data['Name'] = data.index.to_series().apply(lambda x: x.name)\n",
    "    data['SummaryLevel'] = data.index.to_series().apply(lambda x: x.sumlevel())\n",
    "    data['State'] = data.index.to_series().apply(lambda x: x.geo[0][1])\n",
    "    data['County'] = data.index.to_series().apply(lambda x: x.geo[1][1])\n",
    "    data['Tract'] = data.index.to_series().apply(lambda x: x.geo[2][1])\n",
    "    data.reset_index(drop=True, inplace=True)\n",
    "    data = data[['Tract','Name']+list(tables.values())].set_index('Tract')\n",
    "    \n",
    "    return data\n",
    "\n",
    "def get_census_tract_geom(state_fips, county_fips):\n",
    "    '''Download census tract geometries for a given state and county fips code, storing in /tmp and cleaning up after.'''\n",
    "\n",
    "    temp_dir = \"/tmp/census_tracts\"\n",
    "    zip_path = os.path.join(temp_dir, f'tl_2019_{state_fips}_tract.zip')\n",
    "\n",
    "    # Ensure temp directory exists\n",
    "    os.makedirs(temp_dir, exist_ok=True)\n",
    "\n",
    "    # Download the file\n",
    "    url = f'https://www2.census.gov/geo/tiger/TIGER2019/TRACT/tl_2019_{state_fips}_tract.zip'\n",
    "    response = requests.get(url, stream=True)\n",
    "    if response.status_code != 200:\n",
    "        raise Exception(f\"Failed to download file: {url}\")\n",
    "\n",
    "    # Save ZIP file to temp directory\n",
    "    with open(zip_path, \"wb\") as file:\n",
    "        file.write(response.content)\n",
    "\n",
    "    # Extract the ZIP file\n",
    "    with zipfile.ZipFile(zip_path, \"r\") as zip_ref:\n",
    "        zip_ref.extractall(temp_dir)\n",
    "\n",
    "    # Find the shapefile in extracted contents\n",
    "    for file in os.listdir(temp_dir):\n",
    "        if file.endswith(\".shp\"):\n",
    "            shapefile_path = os.path.join(temp_dir, file)\n",
    "            break\n",
    "\n",
    "    # Read the shapefile into a GeoDataFrame\n",
    "    tracts = gpd.read_file(shapefile_path)\n",
    "\n",
    "    # Filter by county and set index\n",
    "    tracts = tracts[tracts['COUNTYFP'] == county_fips]\n",
    "    tracts = tracts.rename(columns={'TRACTCE': 'Tract'}).set_index('Tract')\n",
    "\n",
    "    # Cleanup: Remove extracted files and ZIP file\n",
    "    shutil.rmtree(temp_dir)\n",
    "\n",
    "    return tracts[['geometry']]\n",
    "\n"
   ]
  },
  {
   "cell_type": "code",
   "execution_count": 12,
   "id": "c3b64c3c-7a54-4690-9d38-3e64cea71340",
   "metadata": {},
   "outputs": [],
   "source": [
    "tables = {\n",
    "'B01003_001E': 'TotalPopulation',\n",
    "}\n",
    "\n",
    "## FIPS Code for Washington\n",
    "state_fips = '53' \n",
    "\n",
    "## FIPS code for Spokane County\n",
    "county_fips = '063'  \n",
    "\n",
    "census_df = get_census_data(tables, state_fips, county_fips)\n",
    "tract_geom_gdf = get_census_tract_geom(state_fips, county_fips)\n",
    "tract_geom_gdf_fo_proj = tract_geom_gdf\n",
    "\n"
   ]
  },
  {
   "cell_type": "markdown",
   "id": "af75b726-5d36-4519-b50c-3713667b2c60",
   "metadata": {},
   "source": [
    "#### AEA Projection around Spokane"
   ]
  },
  {
   "cell_type": "code",
   "execution_count": 13,
   "id": "7de449c0-a456-4e56-a3dc-0462e9d06b5a",
   "metadata": {},
   "outputs": [
    {
     "name": "stderr",
     "output_type": "stream",
     "text": [
      "/tmp/ipykernel_158/4220196883.py:1: DeprecationWarning: The 'unary_union' attribute is deprecated, use the 'union_all()' method instead.\n",
      "  hull = tract_geom_gdf_fo_proj.geometry.unary_union.convex_hull\n"
     ]
    },
    {
     "name": "stdout",
     "output_type": "stream",
     "text": [
      "+proj=aea +lat_1=47.26 +lat_2=48.05 +lat_0=47.64 +lon_0=-117.42\n"
     ]
    }
   ],
   "source": [
    "hull = tract_geom_gdf_fo_proj.geometry.unary_union.convex_hull\n",
    "cent = hull.centroid\n",
    "\n",
    "cent_lon =cent.x\n",
    "cent_lat = cent.y\n",
    "min_lat = tract_geom_gdf_fo_proj.bounds[\"miny\"].min().item()\n",
    "max_lat = tract_geom_gdf_fo_proj.bounds[\"maxy\"].max().item()\n",
    "\n",
    "proj_str_aea = f'+proj=aea +lat_1={min_lat:0.2f} +lat_2={max_lat:0.2f} +lat_0={cent_lat:0.2f} +lon_0={cent_lon:0.2f}'\n",
    "print(proj_str_aea)"
   ]
  },
  {
   "cell_type": "markdown",
   "id": "0d674e5a-7288-4a37-8665-2abb67a7bace",
   "metadata": {},
   "source": [
    "# Land Cover"
   ]
  },
  {
   "cell_type": "raw",
   "id": "f940ae01-8089-480a-b26d-af5284abf389",
   "metadata": {},
   "source": [
    "Link to export: https://earthobs3.arcgis.com/arcgis/rest/services/ESA_CCI_Land_Cover_Time_Series/ImageServer/exportImage\n",
    "\n",
    "bbox: -117.823629, 47.259272, -117.039763, 48.047877\n",
    "bbox spatial ref: 4326\n",
    "img size: 800,800\n",
    "img ref: 4326\n",
    "img format: TIFF\n",
    "pixel type: U8\n",
    "Compress: 75\n",
    "Return Square Pixels: True\n",
    "Validate Extent: True "
   ]
  },
  {
   "cell_type": "code",
   "execution_count": null,
   "id": "0138d292-1c9a-48ed-8e3b-a674e48c4b31",
   "metadata": {},
   "outputs": [],
   "source": [
    "land_url = \" href here \"\n",
    "\n",
    "land_response = requests.get(land_url)\n",
    "\n",
    "if land_response.status_code == 200:\n",
    "    with open(\"Data/land_use.tif\", \"wb\") as f:\n",
    "        f.write(land_response.content)\n",
    "    print(\"Land Cover Data Downloaded!\")\n",
    "else:\n",
    "    print(f\"Failed to fetch land data: {land_response.status_code}\")"
   ]
  },
  {
   "cell_type": "markdown",
   "id": "c83faf64-5bda-41bc-ae44-adeaaa2096f0",
   "metadata": {},
   "source": [
    "# Radiation"
   ]
  },
  {
   "cell_type": "markdown",
   "id": "53306a6f-ae46-4c5a-8642-023f59274c39",
   "metadata": {},
   "source": [
    "Uses the provided URL and bounding box to save a TIF file of the average raditaion in the area using NASA's POWER Map."
   ]
  },
  {
   "cell_type": "code",
   "execution_count": 31,
   "id": "39b84dfa-131d-42ff-bd14-a7e53d144e85",
   "metadata": {},
   "outputs": [
    {
     "name": "stdout",
     "output_type": "stream",
     "text": [
      "Downloading image from: https://gis.earthdata.nasa.gov/image/rest/directories/arcgisoutput/POWER/POWER_901_MONTHLY_RADIATION_UTC_ImageServer/_ags_c143143c_51e0_48e3_8d28_d71d4122771a.tif\n",
      "Image saved as Data/radiation.tif\n"
     ]
    }
   ],
   "source": [
    "# Url from the Radiation ImageServer\n",
    "server_url = \"https://gis.earthdata.nasa.gov/image/rest/services/POWER/POWER_901_MONTHLY_RADIATION_UTC/ImageServer/exportImage\"\n",
    "\n",
    "# Spokane Box Boundary: (-117.823629, 47.259272, -117.039763, 48.047877)\n",
    "\n",
    "# Defines the parameters for exporting an image\n",
    "params = {\n",
    "    \"bbox\": \"-117.823629,47.259272,-117.039763,48.047877\",  \n",
    "    \"bboxSR\": \"4326\",\n",
    "    \"imageSR\": \"4326\",\n",
    "    \"size\": \"100,100\",  \n",
    "    \"format\": \"tiff\",  \n",
    "    \"f\": \"json\",\n",
    "}\n",
    "\n",
    "\n",
    "response = requests.get(server_url, params=params)\n",
    "\n",
    "#Debugging code provided by ChatGPT\n",
    "if response.status_code == 200:\n",
    "    image_data = response.json()\n",
    "    image_url = image_data.get(\"href\", None)  # Extract image URL\n",
    "\n",
    "    if image_url:\n",
    "        print(f\"Downloading image from: {image_url}\")\n",
    "\n",
    "        # Download the raster image\n",
    "        image_response = requests.get(image_url)\n",
    "        image_filename = \"Data/radiation.tif\"\n",
    "\n",
    "        with open(image_filename, \"wb\") as file:\n",
    "            file.write(image_response.content)\n",
    "\n",
    "        print(f\"Image saved as {image_filename}\")\n",
    "    else:\n",
    "        print(\"No image URL found in response.\")\n",
    "else:\n",
    "    print(f\"Failed to fetch data: {response.status_code}, Response: {response.text}\")\n"
   ]
  },
  {
   "cell_type": "markdown",
   "id": "e5a6fdb4-68fb-453d-9345-1ace6305447a",
   "metadata": {},
   "source": [
    "# Substations"
   ]
  },
  {
   "cell_type": "markdown",
   "id": "d1a79704-fe6b-4e23-851d-1280bed65ca1",
   "metadata": {},
   "source": [
    "Using the URL, a geoson is downloaded containing the locations of all the substations in Spokane County."
   ]
  },
  {
   "cell_type": "code",
   "execution_count": 29,
   "id": "453b3f5d-b300-4065-8513-69bdadecd05f",
   "metadata": {},
   "outputs": [],
   "source": [
    "url = \"https://services6.arcgis.com/OO2s4OoyCZkYJ6oE/arcgis/rest/services/Substations/FeatureServer/0/query\"\n",
    "\n",
    "resolution = 100 \n",
    "\n",
    "# Request parameters \n",
    "params = {\n",
    "    \"where\": \"COUNTY = 'SPOKANE'\",  \n",
    "    \"outFields\": \"*\", \n",
    "    \"f\": \"geojson\"  \n",
    "}\n",
    "\n",
    "response = requests.get(url, params=params)\n",
    "\n",
    "#Debugging code provided by ChatGPT\n",
    "# Check if the request was successful\n",
    "if response.status_code == 200:\n",
    "    # Load the GeoJSON into a GeoDataFrame\n",
    "    substation_gdf = gpd.read_file(response.text)\n",
    "\n",
    "else:\n",
    "    print(f\"Failed to fetch data: {response.status_code}\")"
   ]
  },
  {
   "cell_type": "markdown",
   "id": "c51ce0ee-32e9-48e0-9ddf-014ed73ebe37",
   "metadata": {},
   "source": [
    "# Substation Distance TIF"
   ]
  },
  {
   "cell_type": "markdown",
   "id": "c802c986-c66d-4b37-91ff-a6f101279492",
   "metadata": {},
   "source": [
    "Generates a raster for which every pixel contains a value for the distance at that location to the nearsest substation."
   ]
  },
  {
   "cell_type": "code",
   "execution_count": 30,
   "id": "9247b9a9-cfbe-4ac3-ae41-41602a7f16e0",
   "metadata": {},
   "outputs": [],
   "source": [
    "# Code completed with the assistance of CHAT\n",
    "substations = substation_gdf\n",
    "\n",
    "# Reproject to the aea projection. It is fital to do this in the first step as projecting the raster later messes up the values for reasons we could not identify.\n",
    "substations = substations.to_crs(epsg=32610)\n",
    "substations = substations.to_crs(proj_str_aea)\n",
    "tract_geom_gdf =tract_geom_gdf.to_crs(proj_str_aea)\n",
    "\n",
    "# Get the bounding box from substations so that the raster will be the same dimensions as Spokane County\n",
    "xmin, ymin, xmax, ymax = tract_geom_gdf.total_bounds\n",
    "\n",
    "# Define the resolution and size of the raster\n",
    "resolution = 100  \n",
    "width = int((xmax - xmin) / resolution)\n",
    "height = int((ymax - ymin) / resolution)\n",
    "\n",
    "\n",
    "raster = np.full((height, width), np.nan, dtype=np.float32)\n",
    "\n",
    "# Extract coordinates of substations\n",
    "substation_coords = np.array(list(zip(substations.geometry.x, substations.geometry.y)))\n",
    "\n",
    "# Create a spatial index using cKDTree for efficient distance computation\n",
    "tree = cKDTree(substation_coords)\n",
    "\n",
    "# Compute distances for each pixel\n",
    "for i in range(height):\n",
    "    for j in range(width):\n",
    "        x = xmin + j * resolution + resolution / 2\n",
    "        y = ymax - i * resolution - resolution / 2\n",
    "        dist, _ = tree.query((x, y))\n",
    "        raster[i, j] = dist / 1000  # converts it to km\n",
    "\n",
    "\n",
    "transform = from_origin(xmin, ymax, resolution, resolution)\n",
    "\n",
    "# Save raster to file\n",
    "with rio.open(\n",
    "    \"./Data/substation_distance_raster.tif\", \"w\", driver=\"GTiff\", height=height, width=width,\n",
    "    count=1, dtype=np.float32, crs=proj_str_aea, transform=transform\n",
    ") as dst:\n",
    "    dst.write(raster, 1)"
   ]
  },
  {
   "cell_type": "markdown",
   "id": "bbec6ea2-5a2b-4a75-a4af-62d67c58e5f8",
   "metadata": {},
   "source": [
    "### FloodPlain Bianary With Buffer"
   ]
  },
  {
   "cell_type": "markdown",
   "id": "168eae0f-450b-419d-a2bf-a4a105a0da5e",
   "metadata": {},
   "source": [
    "Opens the FEMA flood zone file of Spokane Washington creates a binary map of the flood plain in which 1 is not in the flood plain and 0 is. Also includes a 500 meter buffer between the two zones which is marked with the value 0.5."
   ]
  },
  {
   "cell_type": "code",
   "execution_count": 18,
   "id": "99769dc1-8be5-412d-af79-a1dd5af5973c",
   "metadata": {},
   "outputs": [
    {
     "data": {
      "text/html": [
       "<div>\n",
       "<style scoped>\n",
       "    .dataframe tbody tr th:only-of-type {\n",
       "        vertical-align: middle;\n",
       "    }\n",
       "\n",
       "    .dataframe tbody tr th {\n",
       "        vertical-align: top;\n",
       "    }\n",
       "\n",
       "    .dataframe thead th {\n",
       "        text-align: right;\n",
       "    }\n",
       "</style>\n",
       "<table border=\"1\" class=\"dataframe\">\n",
       "  <thead>\n",
       "    <tr style=\"text-align: right;\">\n",
       "      <th></th>\n",
       "      <th>OBJECTID</th>\n",
       "      <th>FLD_ZONE</th>\n",
       "      <th>FloodZone</th>\n",
       "      <th>FloodDescription</th>\n",
       "      <th>ShapeSTArea</th>\n",
       "      <th>ShapeSTLength</th>\n",
       "      <th>geometry</th>\n",
       "    </tr>\n",
       "  </thead>\n",
       "  <tbody>\n",
       "    <tr>\n",
       "      <th>0</th>\n",
       "      <td>1</td>\n",
       "      <td>AE</td>\n",
       "      <td>100 Year</td>\n",
       "      <td>1 Percent Annual Chance Flood Zone</td>\n",
       "      <td>2563.373517</td>\n",
       "      <td>1057.303252</td>\n",
       "      <td>POLYGON ((-117.21347 47.71921, -117.21342 47.7...</td>\n",
       "    </tr>\n",
       "    <tr>\n",
       "      <th>1</th>\n",
       "      <td>2</td>\n",
       "      <td>AE</td>\n",
       "      <td>100 Year</td>\n",
       "      <td>1 Percent Annual Chance Flood Zone</td>\n",
       "      <td>47091.207776</td>\n",
       "      <td>1316.843587</td>\n",
       "      <td>POLYGON ((-117.39354 47.5726, -117.3937 47.572...</td>\n",
       "    </tr>\n",
       "    <tr>\n",
       "      <th>2</th>\n",
       "      <td>3</td>\n",
       "      <td>X</td>\n",
       "      <td>500 Year</td>\n",
       "      <td>0.2 Percent Annual Chance Flood Zone</td>\n",
       "      <td>12072.635706</td>\n",
       "      <td>1139.022057</td>\n",
       "      <td>POLYGON ((-117.41693 47.66159, -117.41703 47.6...</td>\n",
       "    </tr>\n",
       "    <tr>\n",
       "      <th>3</th>\n",
       "      <td>4</td>\n",
       "      <td>AE</td>\n",
       "      <td>100 Year</td>\n",
       "      <td>1 Percent Annual Chance Flood Zone</td>\n",
       "      <td>3293.344152</td>\n",
       "      <td>385.964150</td>\n",
       "      <td>POLYGON ((-117.33046 47.92931, -117.33022 47.9...</td>\n",
       "    </tr>\n",
       "    <tr>\n",
       "      <th>4</th>\n",
       "      <td>5</td>\n",
       "      <td>X</td>\n",
       "      <td>500 Year</td>\n",
       "      <td>0.2 Percent Annual Chance Flood Zone</td>\n",
       "      <td>140930.032756</td>\n",
       "      <td>2078.807675</td>\n",
       "      <td>POLYGON ((-117.78801 47.42675, -117.78808 47.4...</td>\n",
       "    </tr>\n",
       "  </tbody>\n",
       "</table>\n",
       "</div>"
      ],
      "text/plain": [
       "   OBJECTID FLD_ZONE FloodZone                      FloodDescription  \\\n",
       "0         1       AE  100 Year    1 Percent Annual Chance Flood Zone   \n",
       "1         2       AE  100 Year    1 Percent Annual Chance Flood Zone   \n",
       "2         3        X  500 Year  0.2 Percent Annual Chance Flood Zone   \n",
       "3         4       AE  100 Year    1 Percent Annual Chance Flood Zone   \n",
       "4         5        X  500 Year  0.2 Percent Annual Chance Flood Zone   \n",
       "\n",
       "     ShapeSTArea  ShapeSTLength  \\\n",
       "0    2563.373517    1057.303252   \n",
       "1   47091.207776    1316.843587   \n",
       "2   12072.635706    1139.022057   \n",
       "3    3293.344152     385.964150   \n",
       "4  140930.032756    2078.807675   \n",
       "\n",
       "                                            geometry  \n",
       "0  POLYGON ((-117.21347 47.71921, -117.21342 47.7...  \n",
       "1  POLYGON ((-117.39354 47.5726, -117.3937 47.572...  \n",
       "2  POLYGON ((-117.41693 47.66159, -117.41703 47.6...  \n",
       "3  POLYGON ((-117.33046 47.92931, -117.33022 47.9...  \n",
       "4  POLYGON ((-117.78801 47.42675, -117.78808 47.4...  "
      ]
     },
     "execution_count": 18,
     "metadata": {},
     "output_type": "execute_result"
    }
   ],
   "source": [
    "floodplains_fn = './Data/FEMA_Flood_Zone.geojson'\n",
    "floodplains_gdf = gpd.read_file(floodplains_fn)\n",
    "\n",
    "floodplains_gdf = floodplains_gdf.set_crs(4326)\n",
    "floodplains_gdf.head()"
   ]
  },
  {
   "cell_type": "code",
   "execution_count": 11,
   "id": "6850c344-d3d8-44e3-93ca-fa6ce98be5e9",
   "metadata": {},
   "outputs": [],
   "source": [
    "\n",
    "#Reproject now to aea to avoid repercussions later\n",
    "floodplains_gdf = floodplains_gdf.to_crs(proj_str_aea)\n",
    "tract_geom_gdf = tract_geom_gdf.to_crs(proj_str_aea)\n",
    "\n",
    "# Get bounds of the county\n",
    "xmin, ymin, xmax, ymax = tract_geom_gdf.total_bounds\n",
    "\n",
    "# Define the resolution and size of the raster\n",
    "resolution = 100  \n",
    "width = int((xmax - xmin) / resolution)\n",
    "height = int((ymax - ymin) / resolution)\n",
    "transform = from_origin(xmin, ymax, resolution, resolution)\n",
    "\n",
    "# For any value in the floodplains geometry, save it as 0. Then rasterize it using the desired height and width and any values not declared set to 1\n",
    "shapes_floodplain = [(geom, 0) for geom in floodplains_gdf.geometry]\n",
    "raster = rasterize(shapes_floodplain, out_shape=(height, width), transform=transform, fill=1, dtype=np.float32)\n",
    "\n",
    "# Next, we created a buffer, and did the same thing, and instead of 0 set the values to be 0.5, keeping the fill 1\n",
    "floodplains_gdf[\"geometry\"] = floodplains_gdf.geometry.buffer(500)\n",
    "shapes_buffer = [(geom, 0.5) for geom in floodplains_gdf.geometry]\n",
    "buffer_raster = rasterize(shapes_buffer, out_shape=(height, width), transform=transform, fill=1, dtype=np.float32)\n",
    "\n",
    "# Merges the rasters, keep original 0s, and overwriting the 1s with buffer values (0.5)\n",
    "raster[(raster == 1) & (buffer_raster == 0.5)] = 0.5\n",
    "\n",
    "# Save raster to file\n",
    "with rio.open(\n",
    "    \"./Data/floodplain_with_buffer.tif\", \"w\", driver=\"GTiff\", height=height, width=width,\n",
    "    count=1, dtype=np.float32, crs=proj_str_aea, transform=transform\n",
    ") as dst:\n",
    "    dst.write(raster, 1)\n"
   ]
  },
  {
   "cell_type": "code",
   "execution_count": null,
   "id": "d39c8b5c-ef6f-403f-b2a3-b70af4a23c5b",
   "metadata": {},
   "outputs": [],
   "source": []
  }
 ],
 "metadata": {
  "kernelspec": {
   "display_name": "Python 3 (ipykernel)",
   "language": "python",
   "name": "python3"
  },
  "language_info": {
   "codemirror_mode": {
    "name": "ipython",
    "version": 3
   },
   "file_extension": ".py",
   "mimetype": "text/x-python",
   "name": "python",
   "nbconvert_exporter": "python",
   "pygments_lexer": "ipython3",
   "version": "3.11.6"
  }
 },
 "nbformat": 4,
 "nbformat_minor": 5
}
