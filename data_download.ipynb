{
 "cells": [
  {
   "cell_type": "code",
   "execution_count": 2,
   "id": "34a6b4be-fbba-49b9-88e6-f68d51c40ac1",
   "metadata": {},
   "outputs": [],
   "source": [
    "import os\n",
    "import requests\n",
    "import numpy as np\n",
    "import pandas as pd\n",
    "import geopandas as gpd\n",
    "import rasterio as rio\n",
    "from rasterio import plot, mask\n",
    "from rasterio.warp import calculate_default_transform, reproject, Resampling\n",
    "import matplotlib.pyplot as plt\n",
    "import rasterstats\n",
    "import rioxarray as rxr\n",
    "from matplotlib_scalebar.scalebar import ScaleBar\n",
    "from pathlib import Path\n",
    "import xarray as xr\n",
    "from shapely.geometry import Point, Polygon\n",
    "import xyzservices.providers as xyz\n",
    "import contextily as ctx\n",
    "import censusdata\n",
    "import seaborn as sns\n",
    "import requests\n",
    "import zipfile\n",
    "import shutil\n",
    "import requests\n",
    "import rasterio.features \n",
    "from shapely.geometry import shape\n",
    "\n",
    "from rasterio.transform import from_origin\n",
    "from scipy.spatial import cKDTree\n",
    "\n",
    "import rasterio\n",
    "from rasterio.transform import from_origin\n",
    "from rasterio.features import rasterize"
   ]
  },
  {
   "cell_type": "markdown",
   "id": "0d674e5a-7288-4a37-8665-2abb67a7bace",
   "metadata": {},
   "source": [
    "# Land Cover"
   ]
  },
  {
   "cell_type": "raw",
   "id": "f940ae01-8089-480a-b26d-af5284abf389",
   "metadata": {},
   "source": [
    "Link to export: https://earthobs3.arcgis.com/arcgis/rest/services/ESA_CCI_Land_Cover_Time_Series/ImageServer/exportImage\n",
    "\n",
    "bbox: -117.823629, 47.259272, -117.039763, 48.047877\n",
    "bbox spatial ref: 4326\n",
    "img size: 800,800\n",
    "img ref: 4326\n",
    "img format: TIFF\n",
    "pixel type: U8\n",
    "Compress: 75\n",
    "Return Square Pixels: True\n",
    "Validate Extent: True "
   ]
  },
  {
   "cell_type": "code",
   "execution_count": 3,
   "id": "8bfe3582-57bf-498e-bf12-40b921d3abb1",
   "metadata": {},
   "outputs": [
    {
     "ename": "MissingSchema",
     "evalue": "Invalid URL 'href here ': No scheme supplied. Perhaps you meant https://href here ?",
     "output_type": "error",
     "traceback": [
      "\u001b[0;31m---------------------------------------------------------------------------\u001b[0m",
      "\u001b[0;31mMissingSchema\u001b[0m                             Traceback (most recent call last)",
      "Cell \u001b[0;32mIn[3], line 3\u001b[0m\n\u001b[1;32m      1\u001b[0m land_url \u001b[38;5;241m=\u001b[39m \u001b[38;5;124m\"\u001b[39m\u001b[38;5;124m href here \u001b[39m\u001b[38;5;124m\"\u001b[39m\n\u001b[0;32m----> 3\u001b[0m land_response \u001b[38;5;241m=\u001b[39m \u001b[43mrequests\u001b[49m\u001b[38;5;241;43m.\u001b[39;49m\u001b[43mget\u001b[49m\u001b[43m(\u001b[49m\u001b[43mland_url\u001b[49m\u001b[43m)\u001b[49m\n\u001b[1;32m      5\u001b[0m \u001b[38;5;28;01mif\u001b[39;00m land_response\u001b[38;5;241m.\u001b[39mstatus_code \u001b[38;5;241m==\u001b[39m \u001b[38;5;241m200\u001b[39m:\n\u001b[1;32m      6\u001b[0m     \u001b[38;5;28;01mwith\u001b[39;00m \u001b[38;5;28mopen\u001b[39m(\u001b[38;5;124m\"\u001b[39m\u001b[38;5;124mData/land_use.tif\u001b[39m\u001b[38;5;124m\"\u001b[39m, \u001b[38;5;124m\"\u001b[39m\u001b[38;5;124mwb\u001b[39m\u001b[38;5;124m\"\u001b[39m) \u001b[38;5;28;01mas\u001b[39;00m f:\n",
      "File \u001b[0;32m/opt/conda/lib/python3.11/site-packages/requests/api.py:73\u001b[0m, in \u001b[0;36mget\u001b[0;34m(url, params, **kwargs)\u001b[0m\n\u001b[1;32m     62\u001b[0m \u001b[38;5;28;01mdef\u001b[39;00m \u001b[38;5;21mget\u001b[39m(url, params\u001b[38;5;241m=\u001b[39m\u001b[38;5;28;01mNone\u001b[39;00m, \u001b[38;5;241m*\u001b[39m\u001b[38;5;241m*\u001b[39mkwargs):\n\u001b[1;32m     63\u001b[0m \u001b[38;5;250m    \u001b[39m\u001b[38;5;124mr\u001b[39m\u001b[38;5;124;03m\"\"\"Sends a GET request.\u001b[39;00m\n\u001b[1;32m     64\u001b[0m \n\u001b[1;32m     65\u001b[0m \u001b[38;5;124;03m    :param url: URL for the new :class:`Request` object.\u001b[39;00m\n\u001b[0;32m   (...)\u001b[0m\n\u001b[1;32m     70\u001b[0m \u001b[38;5;124;03m    :rtype: requests.Response\u001b[39;00m\n\u001b[1;32m     71\u001b[0m \u001b[38;5;124;03m    \"\"\"\u001b[39;00m\n\u001b[0;32m---> 73\u001b[0m     \u001b[38;5;28;01mreturn\u001b[39;00m \u001b[43mrequest\u001b[49m\u001b[43m(\u001b[49m\u001b[38;5;124;43m\"\u001b[39;49m\u001b[38;5;124;43mget\u001b[39;49m\u001b[38;5;124;43m\"\u001b[39;49m\u001b[43m,\u001b[49m\u001b[43m \u001b[49m\u001b[43murl\u001b[49m\u001b[43m,\u001b[49m\u001b[43m \u001b[49m\u001b[43mparams\u001b[49m\u001b[38;5;241;43m=\u001b[39;49m\u001b[43mparams\u001b[49m\u001b[43m,\u001b[49m\u001b[43m \u001b[49m\u001b[38;5;241;43m*\u001b[39;49m\u001b[38;5;241;43m*\u001b[39;49m\u001b[43mkwargs\u001b[49m\u001b[43m)\u001b[49m\n",
      "File \u001b[0;32m/opt/conda/lib/python3.11/site-packages/requests/api.py:59\u001b[0m, in \u001b[0;36mrequest\u001b[0;34m(method, url, **kwargs)\u001b[0m\n\u001b[1;32m     55\u001b[0m \u001b[38;5;66;03m# By using the 'with' statement we are sure the session is closed, thus we\u001b[39;00m\n\u001b[1;32m     56\u001b[0m \u001b[38;5;66;03m# avoid leaving sockets open which can trigger a ResourceWarning in some\u001b[39;00m\n\u001b[1;32m     57\u001b[0m \u001b[38;5;66;03m# cases, and look like a memory leak in others.\u001b[39;00m\n\u001b[1;32m     58\u001b[0m \u001b[38;5;28;01mwith\u001b[39;00m sessions\u001b[38;5;241m.\u001b[39mSession() \u001b[38;5;28;01mas\u001b[39;00m session:\n\u001b[0;32m---> 59\u001b[0m     \u001b[38;5;28;01mreturn\u001b[39;00m \u001b[43msession\u001b[49m\u001b[38;5;241;43m.\u001b[39;49m\u001b[43mrequest\u001b[49m\u001b[43m(\u001b[49m\u001b[43mmethod\u001b[49m\u001b[38;5;241;43m=\u001b[39;49m\u001b[43mmethod\u001b[49m\u001b[43m,\u001b[49m\u001b[43m \u001b[49m\u001b[43murl\u001b[49m\u001b[38;5;241;43m=\u001b[39;49m\u001b[43murl\u001b[49m\u001b[43m,\u001b[49m\u001b[43m \u001b[49m\u001b[38;5;241;43m*\u001b[39;49m\u001b[38;5;241;43m*\u001b[39;49m\u001b[43mkwargs\u001b[49m\u001b[43m)\u001b[49m\n",
      "File \u001b[0;32m/opt/conda/lib/python3.11/site-packages/requests/sessions.py:575\u001b[0m, in \u001b[0;36mSession.request\u001b[0;34m(self, method, url, params, data, headers, cookies, files, auth, timeout, allow_redirects, proxies, hooks, stream, verify, cert, json)\u001b[0m\n\u001b[1;32m    562\u001b[0m \u001b[38;5;66;03m# Create the Request.\u001b[39;00m\n\u001b[1;32m    563\u001b[0m req \u001b[38;5;241m=\u001b[39m Request(\n\u001b[1;32m    564\u001b[0m     method\u001b[38;5;241m=\u001b[39mmethod\u001b[38;5;241m.\u001b[39mupper(),\n\u001b[1;32m    565\u001b[0m     url\u001b[38;5;241m=\u001b[39murl,\n\u001b[0;32m   (...)\u001b[0m\n\u001b[1;32m    573\u001b[0m     hooks\u001b[38;5;241m=\u001b[39mhooks,\n\u001b[1;32m    574\u001b[0m )\n\u001b[0;32m--> 575\u001b[0m prep \u001b[38;5;241m=\u001b[39m \u001b[38;5;28;43mself\u001b[39;49m\u001b[38;5;241;43m.\u001b[39;49m\u001b[43mprepare_request\u001b[49m\u001b[43m(\u001b[49m\u001b[43mreq\u001b[49m\u001b[43m)\u001b[49m\n\u001b[1;32m    577\u001b[0m proxies \u001b[38;5;241m=\u001b[39m proxies \u001b[38;5;129;01mor\u001b[39;00m {}\n\u001b[1;32m    579\u001b[0m settings \u001b[38;5;241m=\u001b[39m \u001b[38;5;28mself\u001b[39m\u001b[38;5;241m.\u001b[39mmerge_environment_settings(\n\u001b[1;32m    580\u001b[0m     prep\u001b[38;5;241m.\u001b[39murl, proxies, stream, verify, cert\n\u001b[1;32m    581\u001b[0m )\n",
      "File \u001b[0;32m/opt/conda/lib/python3.11/site-packages/requests/sessions.py:484\u001b[0m, in \u001b[0;36mSession.prepare_request\u001b[0;34m(self, request)\u001b[0m\n\u001b[1;32m    481\u001b[0m     auth \u001b[38;5;241m=\u001b[39m get_netrc_auth(request\u001b[38;5;241m.\u001b[39murl)\n\u001b[1;32m    483\u001b[0m p \u001b[38;5;241m=\u001b[39m PreparedRequest()\n\u001b[0;32m--> 484\u001b[0m \u001b[43mp\u001b[49m\u001b[38;5;241;43m.\u001b[39;49m\u001b[43mprepare\u001b[49m\u001b[43m(\u001b[49m\n\u001b[1;32m    485\u001b[0m \u001b[43m    \u001b[49m\u001b[43mmethod\u001b[49m\u001b[38;5;241;43m=\u001b[39;49m\u001b[43mrequest\u001b[49m\u001b[38;5;241;43m.\u001b[39;49m\u001b[43mmethod\u001b[49m\u001b[38;5;241;43m.\u001b[39;49m\u001b[43mupper\u001b[49m\u001b[43m(\u001b[49m\u001b[43m)\u001b[49m\u001b[43m,\u001b[49m\n\u001b[1;32m    486\u001b[0m \u001b[43m    \u001b[49m\u001b[43murl\u001b[49m\u001b[38;5;241;43m=\u001b[39;49m\u001b[43mrequest\u001b[49m\u001b[38;5;241;43m.\u001b[39;49m\u001b[43murl\u001b[49m\u001b[43m,\u001b[49m\n\u001b[1;32m    487\u001b[0m \u001b[43m    \u001b[49m\u001b[43mfiles\u001b[49m\u001b[38;5;241;43m=\u001b[39;49m\u001b[43mrequest\u001b[49m\u001b[38;5;241;43m.\u001b[39;49m\u001b[43mfiles\u001b[49m\u001b[43m,\u001b[49m\n\u001b[1;32m    488\u001b[0m \u001b[43m    \u001b[49m\u001b[43mdata\u001b[49m\u001b[38;5;241;43m=\u001b[39;49m\u001b[43mrequest\u001b[49m\u001b[38;5;241;43m.\u001b[39;49m\u001b[43mdata\u001b[49m\u001b[43m,\u001b[49m\n\u001b[1;32m    489\u001b[0m \u001b[43m    \u001b[49m\u001b[43mjson\u001b[49m\u001b[38;5;241;43m=\u001b[39;49m\u001b[43mrequest\u001b[49m\u001b[38;5;241;43m.\u001b[39;49m\u001b[43mjson\u001b[49m\u001b[43m,\u001b[49m\n\u001b[1;32m    490\u001b[0m \u001b[43m    \u001b[49m\u001b[43mheaders\u001b[49m\u001b[38;5;241;43m=\u001b[39;49m\u001b[43mmerge_setting\u001b[49m\u001b[43m(\u001b[49m\n\u001b[1;32m    491\u001b[0m \u001b[43m        \u001b[49m\u001b[43mrequest\u001b[49m\u001b[38;5;241;43m.\u001b[39;49m\u001b[43mheaders\u001b[49m\u001b[43m,\u001b[49m\u001b[43m \u001b[49m\u001b[38;5;28;43mself\u001b[39;49m\u001b[38;5;241;43m.\u001b[39;49m\u001b[43mheaders\u001b[49m\u001b[43m,\u001b[49m\u001b[43m \u001b[49m\u001b[43mdict_class\u001b[49m\u001b[38;5;241;43m=\u001b[39;49m\u001b[43mCaseInsensitiveDict\u001b[49m\n\u001b[1;32m    492\u001b[0m \u001b[43m    \u001b[49m\u001b[43m)\u001b[49m\u001b[43m,\u001b[49m\n\u001b[1;32m    493\u001b[0m \u001b[43m    \u001b[49m\u001b[43mparams\u001b[49m\u001b[38;5;241;43m=\u001b[39;49m\u001b[43mmerge_setting\u001b[49m\u001b[43m(\u001b[49m\u001b[43mrequest\u001b[49m\u001b[38;5;241;43m.\u001b[39;49m\u001b[43mparams\u001b[49m\u001b[43m,\u001b[49m\u001b[43m \u001b[49m\u001b[38;5;28;43mself\u001b[39;49m\u001b[38;5;241;43m.\u001b[39;49m\u001b[43mparams\u001b[49m\u001b[43m)\u001b[49m\u001b[43m,\u001b[49m\n\u001b[1;32m    494\u001b[0m \u001b[43m    \u001b[49m\u001b[43mauth\u001b[49m\u001b[38;5;241;43m=\u001b[39;49m\u001b[43mmerge_setting\u001b[49m\u001b[43m(\u001b[49m\u001b[43mauth\u001b[49m\u001b[43m,\u001b[49m\u001b[43m \u001b[49m\u001b[38;5;28;43mself\u001b[39;49m\u001b[38;5;241;43m.\u001b[39;49m\u001b[43mauth\u001b[49m\u001b[43m)\u001b[49m\u001b[43m,\u001b[49m\n\u001b[1;32m    495\u001b[0m \u001b[43m    \u001b[49m\u001b[43mcookies\u001b[49m\u001b[38;5;241;43m=\u001b[39;49m\u001b[43mmerged_cookies\u001b[49m\u001b[43m,\u001b[49m\n\u001b[1;32m    496\u001b[0m \u001b[43m    \u001b[49m\u001b[43mhooks\u001b[49m\u001b[38;5;241;43m=\u001b[39;49m\u001b[43mmerge_hooks\u001b[49m\u001b[43m(\u001b[49m\u001b[43mrequest\u001b[49m\u001b[38;5;241;43m.\u001b[39;49m\u001b[43mhooks\u001b[49m\u001b[43m,\u001b[49m\u001b[43m \u001b[49m\u001b[38;5;28;43mself\u001b[39;49m\u001b[38;5;241;43m.\u001b[39;49m\u001b[43mhooks\u001b[49m\u001b[43m)\u001b[49m\u001b[43m,\u001b[49m\n\u001b[1;32m    497\u001b[0m \u001b[43m\u001b[49m\u001b[43m)\u001b[49m\n\u001b[1;32m    498\u001b[0m \u001b[38;5;28;01mreturn\u001b[39;00m p\n",
      "File \u001b[0;32m/opt/conda/lib/python3.11/site-packages/requests/models.py:367\u001b[0m, in \u001b[0;36mPreparedRequest.prepare\u001b[0;34m(self, method, url, headers, files, data, params, auth, cookies, hooks, json)\u001b[0m\n\u001b[1;32m    364\u001b[0m \u001b[38;5;250m\u001b[39m\u001b[38;5;124;03m\"\"\"Prepares the entire request with the given parameters.\"\"\"\u001b[39;00m\n\u001b[1;32m    366\u001b[0m \u001b[38;5;28mself\u001b[39m\u001b[38;5;241m.\u001b[39mprepare_method(method)\n\u001b[0;32m--> 367\u001b[0m \u001b[38;5;28;43mself\u001b[39;49m\u001b[38;5;241;43m.\u001b[39;49m\u001b[43mprepare_url\u001b[49m\u001b[43m(\u001b[49m\u001b[43murl\u001b[49m\u001b[43m,\u001b[49m\u001b[43m \u001b[49m\u001b[43mparams\u001b[49m\u001b[43m)\u001b[49m\n\u001b[1;32m    368\u001b[0m \u001b[38;5;28mself\u001b[39m\u001b[38;5;241m.\u001b[39mprepare_headers(headers)\n\u001b[1;32m    369\u001b[0m \u001b[38;5;28mself\u001b[39m\u001b[38;5;241m.\u001b[39mprepare_cookies(cookies)\n",
      "File \u001b[0;32m/opt/conda/lib/python3.11/site-packages/requests/models.py:438\u001b[0m, in \u001b[0;36mPreparedRequest.prepare_url\u001b[0;34m(self, url, params)\u001b[0m\n\u001b[1;32m    435\u001b[0m     \u001b[38;5;28;01mraise\u001b[39;00m InvalidURL(\u001b[38;5;241m*\u001b[39me\u001b[38;5;241m.\u001b[39margs)\n\u001b[1;32m    437\u001b[0m \u001b[38;5;28;01mif\u001b[39;00m \u001b[38;5;129;01mnot\u001b[39;00m scheme:\n\u001b[0;32m--> 438\u001b[0m     \u001b[38;5;28;01mraise\u001b[39;00m MissingSchema(\n\u001b[1;32m    439\u001b[0m         \u001b[38;5;124mf\u001b[39m\u001b[38;5;124m\"\u001b[39m\u001b[38;5;124mInvalid URL \u001b[39m\u001b[38;5;132;01m{\u001b[39;00murl\u001b[38;5;132;01m!r}\u001b[39;00m\u001b[38;5;124m: No scheme supplied. \u001b[39m\u001b[38;5;124m\"\u001b[39m\n\u001b[1;32m    440\u001b[0m         \u001b[38;5;124mf\u001b[39m\u001b[38;5;124m\"\u001b[39m\u001b[38;5;124mPerhaps you meant https://\u001b[39m\u001b[38;5;132;01m{\u001b[39;00murl\u001b[38;5;132;01m}\u001b[39;00m\u001b[38;5;124m?\u001b[39m\u001b[38;5;124m\"\u001b[39m\n\u001b[1;32m    441\u001b[0m     )\n\u001b[1;32m    443\u001b[0m \u001b[38;5;28;01mif\u001b[39;00m \u001b[38;5;129;01mnot\u001b[39;00m host:\n\u001b[1;32m    444\u001b[0m     \u001b[38;5;28;01mraise\u001b[39;00m InvalidURL(\u001b[38;5;124mf\u001b[39m\u001b[38;5;124m\"\u001b[39m\u001b[38;5;124mInvalid URL \u001b[39m\u001b[38;5;132;01m{\u001b[39;00murl\u001b[38;5;132;01m!r}\u001b[39;00m\u001b[38;5;124m: No host supplied\u001b[39m\u001b[38;5;124m\"\u001b[39m)\n",
      "\u001b[0;31mMissingSchema\u001b[0m: Invalid URL 'href here ': No scheme supplied. Perhaps you meant https://href here ?"
     ]
    }
   ],
   "source": [
    "land_url = \" href here \"\n",
    "\n",
    "land_response = requests.get(land_url)\n",
    "\n",
    "if land_response.status_code == 200:\n",
    "    with open(\"Data/land_use.tif\", \"wb\") as f:\n",
    "        f.write(land_response.content)\n",
    "    print(\"Land Cover Data Downloaded!\")\n",
    "else:\n",
    "    print(f\"Failed to fetch land data: {land_response.status_code}\")"
   ]
  },
  {
   "cell_type": "markdown",
   "id": "c83faf64-5bda-41bc-ae44-adeaaa2096f0",
   "metadata": {},
   "source": [
    "# Radiation"
   ]
  },
  {
   "cell_type": "code",
   "execution_count": 4,
   "id": "39b84dfa-131d-42ff-bd14-a7e53d144e85",
   "metadata": {},
   "outputs": [
    {
     "name": "stdout",
     "output_type": "stream",
     "text": [
      "Downloading image from: https://gis.earthdata.nasa.gov/image/rest/directories/arcgisoutput/POWER/POWER_901_MONTHLY_RADIATION_UTC_ImageServer/_ags_e9c734e2_3652_4b38_afcb_7faca81551f9.tif\n",
      "Image saved as Data/radiation.tif\n"
     ]
    }
   ],
   "source": [
    "#Code Aquired from Chat\n",
    "# Define the ImageServer exportImage URL\n",
    "server_url = \"https://gis.earthdata.nasa.gov/image/rest/services/POWER/POWER_901_MONTHLY_RADIATION_UTC/ImageServer/exportImage\"\n",
    "\n",
    "#Spokane Box Boundary\n",
    "# -117.823629\t47.259272\t-117.039763\t48.047877\t53063\n",
    "\n",
    "# Define parameters for exporting an image\n",
    "params = {\n",
    "    \"bbox\": \"-117.823629,47.259272,-117.039763,48.047877\",  # Bounding box covering Spokane County\n",
    "    \"bboxSR\": \"4326\",\n",
    "    \"imageSR\": \"4326\",\n",
    "    \"size\": \"100,100\",  # Resolution of the image\n",
    "    \"format\": \"tiff\",  # Use \"png\" if you prefer a simple image\n",
    "    \"f\": \"json\",\n",
    "}\n",
    "\n",
    "# Request the image\n",
    "response = requests.get(server_url, params=params)\n",
    "\n",
    "if response.status_code == 200:\n",
    "    image_data = response.json()\n",
    "    image_url = image_data.get(\"href\", None)  # Extract image URL\n",
    "\n",
    "    if image_url:\n",
    "        print(f\"Downloading image from: {image_url}\")\n",
    "\n",
    "        # Download the raster image\n",
    "        image_response = requests.get(image_url)\n",
    "        image_filename = \"Data/radiation.tif\"\n",
    "\n",
    "        with open(image_filename, \"wb\") as file:\n",
    "            file.write(image_response.content)\n",
    "\n",
    "        print(f\"Image saved as {image_filename}\")\n",
    "    else:\n",
    "        print(\"No image URL found in response.\")\n",
    "else:\n",
    "    print(f\"Failed to fetch data: {response.status_code}, Response: {response.text}\")\n"
   ]
  },
  {
   "cell_type": "markdown",
   "id": "e5a6fdb4-68fb-453d-9345-1ace6305447a",
   "metadata": {},
   "source": [
    "# Substations"
   ]
  },
  {
   "cell_type": "code",
   "execution_count": 5,
   "id": "453b3f5d-b300-4065-8513-69bdadecd05f",
   "metadata": {},
   "outputs": [],
   "source": [
    "# substation_url = \"https://services6.arcgis.com/OO2s4OoyCZkYJ6oE/arcgis/rest/services/Substations/FeatureServer/0/query\"\n",
    "\n",
    "# substation_params = {\n",
    "#     \"where\": \"COUNTY = 'SPOKANE'\", \n",
    "#     \"outFields\": \"*\", \n",
    "#     \"f\": \"geojson\" \n",
    "# }\n",
    "\n",
    "# substation_response = requests.get(substation_url, params=substation_params)\n",
    "\n",
    "# if substation_response.status_code == 200:\n",
    "#     with open(\"Data/substations.geojson\", \"wb\") as f:\n",
    "#         f.write(substation_response.content)\n",
    "#     print(\"Substation Data Downloaded!\")\n",
    "# else:\n",
    "#     print(f\"Failed to fetch substation data: {substation_response.status_code}\")\n",
    "\n",
    "\n",
    "\n",
    "#This Code was aquired using the help of ChatGPT\n",
    "# URL of the ArcGIS FeatureServer\n",
    "url = \"https://services6.arcgis.com/OO2s4OoyCZkYJ6oE/arcgis/rest/services/Substations/FeatureServer/0/query\"\n",
    "\n",
    "resolution = 100 \n",
    "\n",
    "# Define query parameters for the request\n",
    "params = {\n",
    "    \"where\": \"COUNTY = 'SPOKANE'\",  # Filter for records where the STATE field is 'WA'\n",
    "    \"outFields\": \"*\",  # Fetch all fields\n",
    "    \"f\": \"geojson\"  # Request GeoJSON format\n",
    "}\n",
    "\n",
    "# Send the request and get the response\n",
    "response = requests.get(url, params=params)\n",
    "\n",
    "# Check if the request was successful\n",
    "if response.status_code == 200:\n",
    "    # Load the GeoJSON into a GeoDataFrame\n",
    "    substation_gdf = gpd.read_file(response.text)\n",
    "\n",
    "else:\n",
    "    print(f\"Failed to fetch data: {response.status_code}\")"
   ]
  },
  {
   "cell_type": "markdown",
   "id": "c51ce0ee-32e9-48e0-9ddf-014ed73ebe37",
   "metadata": {},
   "source": [
    "# Substation Distance TIF"
   ]
  },
  {
   "cell_type": "code",
   "execution_count": 6,
   "id": "9247b9a9-cfbe-4ac3-ae41-41602a7f16e0",
   "metadata": {},
   "outputs": [
    {
     "ename": "NameError",
     "evalue": "name 'proj_str_aea' is not defined",
     "output_type": "error",
     "traceback": [
      "\u001b[0;31m---------------------------------------------------------------------------\u001b[0m",
      "\u001b[0;31mNameError\u001b[0m                                 Traceback (most recent call last)",
      "Cell \u001b[0;32mIn[6], line 5\u001b[0m\n\u001b[1;32m      1\u001b[0m \u001b[38;5;66;03m# Code aquired from CHAT\u001b[39;00m\n\u001b[1;32m      3\u001b[0m substations \u001b[38;5;241m=\u001b[39m substation_gdf\n\u001b[0;32m----> 5\u001b[0m substations \u001b[38;5;241m=\u001b[39m substations\u001b[38;5;241m.\u001b[39mto_crs(\u001b[43mproj_str_aea\u001b[49m)\n\u001b[1;32m      6\u001b[0m tract_geom_gdf \u001b[38;5;241m=\u001b[39mtract_geom_gdf\u001b[38;5;241m.\u001b[39mto_crs(proj_str_aea)\n\u001b[1;32m      8\u001b[0m \u001b[38;5;66;03m# Get the bounding box from substations\u001b[39;00m\n",
      "\u001b[0;31mNameError\u001b[0m: name 'proj_str_aea' is not defined"
     ]
    }
   ],
   "source": [
    "# Code aquired from CHAT\n",
    "\n",
    "substations = substation_gdf\n",
    "\n",
    "substation_gdf =tract_geom_gdf.to_crs(32610)\n",
    "substations = substations.to_crs(epsg=32610)\n",
    "\n",
    "substations = substations.to_crs(proj_str_aea)\n",
    "tract_geom_gdf =tract_geom_gdf.to_crs(proj_str_aea)\n",
    "\n",
    "# Get the bounding box from substations\n",
    "xmin, ymin, xmax, ymax = tract_geom_gdf.total_bounds\n",
    "\n",
    "# Define the resolution of the raster (in meters)\n",
    "resolution = 100  # Change this as needed (e.g., 100 meters per pixel)\n",
    "width = int((xmax - xmin) / resolution)\n",
    "height = int((ymax - ymin) / resolution)\n",
    "\n",
    "\n",
    "raster = np.full((height, width), np.nan, dtype=np.float32)\n",
    "\n",
    "# Extract coordinates of substations\n",
    "substation_coords = np.array(list(zip(substations.geometry.x, substations.geometry.y)))\n",
    "\n",
    "# Create a spatial index using cKDTree for efficient distance computation\n",
    "tree = cKDTree(substation_coords)\n",
    "\n",
    "# Compute distances for each pixel\n",
    "for i in range(height):\n",
    "    for j in range(width):\n",
    "        x = xmin + j * resolution + resolution / 2\n",
    "        y = ymax - i * resolution - resolution / 2\n",
    "        dist, _ = tree.query((x, y))\n",
    "        raster[i, j] = dist / 1000  # converts it to km\n",
    "\n",
    "\n",
    "transform = from_origin(xmin, ymax, resolution, resolution)\n",
    "\n",
    "# Save raster to file\n",
    "with rasterio.open(\n",
    "    \"./Data/distance_raster_proj_alt.tif\", \"w\", driver=\"GTiff\", height=height, width=width,\n",
    "    count=1, dtype=np.float32, crs=\"EPSG:32610\", transform=transform\n",
    ") as dst:\n",
    "    dst.write(raster, 1)\n",
    "\n",
    "\n"
   ]
  },
  {
   "cell_type": "markdown",
   "id": "bbec6ea2-5a2b-4a75-a4af-62d67c58e5f8",
   "metadata": {},
   "source": [
    "### FloodPlain Bianary"
   ]
  },
  {
   "cell_type": "code",
   "execution_count": null,
   "id": "6850c344-d3d8-44e3-93ca-fa6ce98be5e9",
   "metadata": {},
   "outputs": [],
   "source": [
    "floodplains_gdf = floodplains_gdf.to_crs(proj_str_aea)\n",
    "tract_geom_gdf =tract_geom_gdf.to_crs(proj_str_aea)\n",
    "\n",
    "xmin, ymin, xmax, ymax = tract_geom_gdf.total_bounds\n",
    "\n",
    "# Define the resolution of the raster (in meters)\n",
    "resolution = 100  # Change this as needed (e.g., 100 meters per pixel)\n",
    "width = int((xmax - xmin) / resolution)\n",
    "height = int((ymax - ymin) / resolution)\n",
    "\n",
    "transform = from_origin(xmin, ymax, resolution, resolution)\n",
    "\n",
    "# Create a binary raster mask of floodplain areas\n",
    "shapes = [(geom, 1) for geom in floodplains_gdf.geometry]\n",
    "raster = rasterize(shapes, out_shape=(height, width), transform=transform, fill=0, dtype=np.uint8)\n",
    "\n",
    "# Save raster to file\n",
    "with rasterio.open(\n",
    "    \"./Data/floodplain_binary.tif\", \"w\", driver=\"GTiff\", height=height, width=width,\n",
    "    count=1, dtype=np.uint8, crs=\"EPSG:32610\", transform=transform\n",
    ") as dst:\n",
    "    dst.write(raster, 1)"
   ]
  }
 ],
 "metadata": {
  "kernelspec": {
   "display_name": "Python 3 (ipykernel)",
   "language": "python",
   "name": "python3"
  },
  "language_info": {
   "codemirror_mode": {
    "name": "ipython",
    "version": 3
   },
   "file_extension": ".py",
   "mimetype": "text/x-python",
   "name": "python",
   "nbconvert_exporter": "python",
   "pygments_lexer": "ipython3",
   "version": "3.11.6"
  }
 },
 "nbformat": 4,
 "nbformat_minor": 5
}
