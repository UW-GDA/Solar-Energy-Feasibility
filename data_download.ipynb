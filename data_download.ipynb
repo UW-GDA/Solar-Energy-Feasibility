{
 "cells": [
  {
   "cell_type": "code",
   "execution_count": 1,
   "id": "34a6b4be-fbba-49b9-88e6-f68d51c40ac1",
   "metadata": {},
   "outputs": [],
   "source": [
    "import requests"
   ]
  },
  {
   "cell_type": "markdown",
   "id": "0d674e5a-7288-4a37-8665-2abb67a7bace",
   "metadata": {},
   "source": [
    "# Land Cover"
   ]
  },
  {
   "cell_type": "raw",
   "id": "f940ae01-8089-480a-b26d-af5284abf389",
   "metadata": {},
   "source": [
    "Link to export: https://earthobs3.arcgis.com/arcgis/rest/services/ESA_CCI_Land_Cover_Time_Series/ImageServer/exportImage\n",
    "\n",
    "bbox: -117.823629, 47.259272, -117.039763, 48.047877\n",
    "bbox spatial ref: 4326\n",
    "img size: 800,800\n",
    "img ref: 4326\n",
    "img format: TIFF\n",
    "pixel type: U8\n",
    "Compress: 75\n",
    "Return Square Pixels: True\n",
    "Validate Extent: True \n",
    "\n",
    "Export POST, copy href into url below:"
   ]
  },
  {
   "cell_type": "code",
   "execution_count": 8,
   "id": "8bfe3582-57bf-498e-bf12-40b921d3abb1",
   "metadata": {},
   "outputs": [
    {
     "name": "stdout",
     "output_type": "stream",
     "text": [
      "Land Cover Data Downloaded!\n"
     ]
    }
   ],
   "source": [
    "land_url = \"https://earthobs3.arcgis.com/arcgis/rest/directories/arcgisoutput/ESA_CCI_Land_Cover_Time_Series_ImageServer/x_____xgzxEgmG5T4d90R8b7G3-5g..x_____x_ags_650ac92c_52c7_4a13_a705_02d78ccc0148.tif\"\n",
    "\n",
    "land_response = requests.get(land_url)\n",
    "\n",
    "if land_response.status_code == 200:\n",
    "    with open(\"Data/land_use.tif\", \"wb\") as f:\n",
    "        f.write(land_response.content)\n",
    "    print(\"Land Cover Data Downloaded!\")\n",
    "else:\n",
    "    print(f\"Failed to fetch land data: {land_response.status_code}\")"
   ]
  },
  {
   "cell_type": "markdown",
   "id": "c83faf64-5bda-41bc-ae44-adeaaa2096f0",
   "metadata": {},
   "source": [
    "# Radiation"
   ]
  },
  {
   "cell_type": "raw",
   "id": "f6572d3f-8322-47ab-996a-d3088303acbe",
   "metadata": {},
   "source": [
    "Link to export: https://gis.earthdata.nasa.gov/image/rest/services/POWER/POWER_901_MONTHLY_RADIATION_UTC/ImageServer/exportImage\n",
    "\n",
    "bbox:-117.823629, 47.259272, -117.039763, 48.047877\n",
    "bbox spatial ref: 4326\n",
    "img size: 800,800\n",
    "img ref: 4326\n",
    "img format: TIFF\n",
    "pixel type: F64\n",
    "Compress: 75\n",
    "Return Square Pixels: True\n",
    "Validate Extent: True \n",
    "\n",
    "Export POST, copy href into url below:"
   ]
  },
  {
   "cell_type": "code",
   "execution_count": 7,
   "id": "39b84dfa-131d-42ff-bd14-a7e53d144e85",
   "metadata": {},
   "outputs": [
    {
     "name": "stdout",
     "output_type": "stream",
     "text": [
      "Radiation Data Downloaded!\n"
     ]
    }
   ],
   "source": [
    "ra_url = \"https://gis.earthdata.nasa.gov/image/rest/directories/arcgisoutput/POWER/POWER_901_MONTHLY_RADIATION_UTC_ImageServer/_ags_2fb9a2ae_bb52_4bb5_b6b6_3c17bb940dc6.tif\"\n",
    "\n",
    "ra_response = requests.get(ra_url)\n",
    "\n",
    "if ra_response.status_code == 200:\n",
    "    with open(\"Data/radiation.tif\", \"wb\") as f:\n",
    "        f.write(ra_response.content)  # Fixed incorrect variable\n",
    "    print(\"Radiation Data Downloaded!\")\n",
    "else:\n",
    "    print(f\"Failed to fetch radiation data: {ra_response.status_code}\")"
   ]
  },
  {
   "cell_type": "markdown",
   "id": "e5a6fdb4-68fb-453d-9345-1ace6305447a",
   "metadata": {},
   "source": [
    "# Substations"
   ]
  },
  {
   "cell_type": "code",
   "execution_count": 4,
   "id": "453b3f5d-b300-4065-8513-69bdadecd05f",
   "metadata": {},
   "outputs": [
    {
     "name": "stdout",
     "output_type": "stream",
     "text": [
      "Substation Data Downloaded!\n"
     ]
    }
   ],
   "source": [
    "substation_url = \"https://services6.arcgis.com/OO2s4OoyCZkYJ6oE/arcgis/rest/services/Substations/FeatureServer/0/query\"\n",
    "\n",
    "substation_params = {\n",
    "    \"where\": \"COUNTY = 'SPOKANE'\", \n",
    "    \"outFields\": \"*\", \n",
    "    \"f\": \"geojson\" \n",
    "}\n",
    "\n",
    "substation_response = requests.get(substation_url, params=substation_params)\n",
    "\n",
    "if substation_response.status_code == 200:\n",
    "    with open(\"Data/substations.geojson\", \"wb\") as f:\n",
    "        f.write(substation_response.content)\n",
    "    print(\"Substation Data Downloaded!\")\n",
    "else:\n",
    "    print(f\"Failed to fetch substation data: {substation_response.status_code}\")"
   ]
  }
 ],
 "metadata": {
  "kernelspec": {
   "display_name": "Python 3 (ipykernel)",
   "language": "python",
   "name": "python3"
  },
  "language_info": {
   "codemirror_mode": {
    "name": "ipython",
    "version": 3
   },
   "file_extension": ".py",
   "mimetype": "text/x-python",
   "name": "python",
   "nbconvert_exporter": "python",
   "pygments_lexer": "ipython3",
   "version": "3.11.6"
  }
 },
 "nbformat": 4,
 "nbformat_minor": 5
}
