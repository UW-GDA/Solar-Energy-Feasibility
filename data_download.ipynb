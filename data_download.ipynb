{
 "cells": [
  {
   "cell_type": "code",
   "execution_count": 1,
   "id": "34a6b4be-fbba-49b9-88e6-f68d51c40ac1",
   "metadata": {},
   "outputs": [],
   "source": [
    "import os\n",
    "import requests\n",
    "import numpy as np\n",
    "import pandas as pd\n",
    "import geopandas as gpd\n",
    "import rasterio as rio\n",
    "from rasterio import plot, mask\n",
    "from rasterio.warp import calculate_default_transform, reproject, Resampling\n",
    "import matplotlib.pyplot as plt\n",
    "import rasterstats\n",
    "import rioxarray as rxr\n",
    "from matplotlib_scalebar.scalebar import ScaleBar\n",
    "from pathlib import Path\n",
    "import xarray as xr\n",
    "from shapely.geometry import Point, Polygon\n",
    "import xyzservices.providers as xyz\n",
    "import contextily as ctx\n",
    "import censusdata\n",
    "import seaborn as sns\n",
    "import requests\n",
    "import zipfile\n",
    "import shutil\n",
    "import requests\n",
    "import rasterio.features \n",
    "from shapely.geometry import shape\n",
    "\n",
    "from rasterio.transform import from_origin\n",
    "from scipy.spatial import cKDTree\n",
    "\n",
    "import rasterio\n",
    "from rasterio.transform import from_origin\n",
    "from rasterio.features import rasterize"
   ]
  },
  {
   "cell_type": "markdown",
   "id": "0d674e5a-7288-4a37-8665-2abb67a7bace",
   "metadata": {},
   "source": [
    "# Land Cover"
   ]
  },
  {
   "cell_type": "raw",
   "id": "f940ae01-8089-480a-b26d-af5284abf389",
   "metadata": {},
   "source": [
    "Link to export: https://earthobs3.arcgis.com/arcgis/rest/services/ESA_CCI_Land_Cover_Time_Series/ImageServer/exportImage\n",
    "\n",
    "bbox: -117.823629, 47.259272, -117.039763, 48.047877\n",
    "bbox spatial ref: 4326\n",
    "img size: 800,800\n",
    "img ref: 4326\n",
    "img format: TIFF\n",
    "pixel type: U8\n",
    "Compress: 75\n",
    "Return Square Pixels: True\n",
    "Validate Extent: True "
   ]
  },
  {
   "cell_type": "code",
   "execution_count": null,
   "id": "8bfe3582-57bf-498e-bf12-40b921d3abb1",
   "metadata": {},
   "outputs": [],
   "source": [
    "land_url = \" href here \"\n",
    "\n",
    "land_response = requests.get(land_url)\n",
    "\n",
    "if land_response.status_code == 200:\n",
    "    with open(\"Data/land_use.tif\", \"wb\") as f:\n",
    "        f.write(land_response.content)\n",
    "    print(\"Land Cover Data Downloaded!\")\n",
    "else:\n",
    "    print(f\"Failed to fetch land data: {land_response.status_code}\")"
   ]
  },
  {
   "cell_type": "markdown",
   "id": "c83faf64-5bda-41bc-ae44-adeaaa2096f0",
   "metadata": {},
   "source": [
    "# Radiation"
   ]
  },
  {
   "cell_type": "code",
   "execution_count": 2,
   "id": "39b84dfa-131d-42ff-bd14-a7e53d144e85",
   "metadata": {},
   "outputs": [
    {
     "name": "stdout",
     "output_type": "stream",
     "text": [
      "Downloading image from: https://gis.earthdata.nasa.gov/image/rest/directories/arcgisoutput/POWER/POWER_901_MONTHLY_RADIATION_UTC_ImageServer/_ags_c7c8034c_60c9_45e3_b429_90316bc7a982.tif\n",
      "Image saved as Data/radiation.tif\n"
     ]
    }
   ],
   "source": [
    "#Code Aquired from Chat\n",
    "# Define the ImageServer exportImage URL\n",
    "server_url = \"https://gis.earthdata.nasa.gov/image/rest/services/POWER/POWER_901_MONTHLY_RADIATION_UTC/ImageServer/exportImage\"\n",
    "\n",
    "#Spokane Box Boundary\n",
    "# -117.823629\t47.259272\t-117.039763\t48.047877\t53063\n",
    "\n",
    "# Define parameters for exporting an image\n",
    "params = {\n",
    "    \"bbox\": \"-117.823629,47.259272,-117.039763,48.047877,53063\",  # Bounding box covering Spokane County\n",
    "    \"bboxSR\": \"4326\",\n",
    "    \"imageSR\": \"4326\",\n",
    "    \"size\": \"2000,2000\",  # Resolution of the image\n",
    "    \"format\": \"tiff\",  # Use \"png\" if you prefer a simple image\n",
    "    \"f\": \"json\",\n",
    "}\n",
    "\n",
    "# Request the image\n",
    "response = requests.get(server_url, params=params)\n",
    "\n",
    "if response.status_code == 200:\n",
    "    image_data = response.json()\n",
    "    image_url = image_data.get(\"href\", None)  # Extract image URL\n",
    "\n",
    "    if image_url:\n",
    "        print(f\"Downloading image from: {image_url}\")\n",
    "\n",
    "        # Download the raster image\n",
    "        image_response = requests.get(image_url)\n",
    "        image_filename = \"Data/radiation.tif\"\n",
    "\n",
    "        with open(image_filename, \"wb\") as file:\n",
    "            file.write(image_response.content)\n",
    "\n",
    "        print(f\"Image saved as {image_filename}\")\n",
    "    else:\n",
    "        print(\"No image URL found in response.\")\n",
    "else:\n",
    "    print(f\"Failed to fetch data: {response.status_code}, Response: {response.text}\")\n"
   ]
  },
  {
   "cell_type": "markdown",
   "id": "e5a6fdb4-68fb-453d-9345-1ace6305447a",
   "metadata": {},
   "source": [
    "# Substations"
   ]
  },
  {
   "cell_type": "code",
   "execution_count": null,
   "id": "453b3f5d-b300-4065-8513-69bdadecd05f",
   "metadata": {},
   "outputs": [],
   "source": [
    "substation_url = \"https://services6.arcgis.com/OO2s4OoyCZkYJ6oE/arcgis/rest/services/Substations/FeatureServer/0/query\"\n",
    "\n",
    "substation_params = {\n",
    "    \"where\": \"COUNTY = 'SPOKANE'\", \n",
    "    \"outFields\": \"*\", \n",
    "    \"f\": \"geojson\" \n",
    "}\n",
    "\n",
    "substation_response = requests.get(substation_url, params=substation_params)\n",
    "\n",
    "if substation_response.status_code == 200:\n",
    "    with open(\"Data/substations.geojson\", \"wb\") as f:\n",
    "        f.write(substation_response.content)\n",
    "    print(\"Substation Data Downloaded!\")\n",
    "else:\n",
    "    print(f\"Failed to fetch substation data: {substation_response.status_code}\")"
   ]
  },
  {
   "cell_type": "markdown",
   "id": "c51ce0ee-32e9-48e0-9ddf-014ed73ebe37",
   "metadata": {},
   "source": [
    "# Substation Distance TIF"
   ]
  },
  {
   "cell_type": "code",
   "execution_count": null,
   "id": "9247b9a9-cfbe-4ac3-ae41-41602a7f16e0",
   "metadata": {},
   "outputs": [],
   "source": [
    "# Code aquired from CHAT\n",
    "\n",
    "substations = substation_gdf\n",
    "\n",
    "tract_geom_gdf =tract_geom_gdf.to_crs(32610)\n",
    "substations = substations.to_crs(epsg=32610)\n",
    "\n",
    "# Get the bounding box from substations\n",
    "xmin, ymin, xmax, ymax = tract_geom_gdf.total_bounds\n",
    "\n",
    "# Define the resolution of the raster (in meters)\n",
    "resolution = 100  # Change this as needed (e.g., 100 meters per pixel)\n",
    "width = int((xmax - xmin) / resolution)\n",
    "height = int((ymax - ymin) / resolution)\n",
    "\n",
    "\n",
    "raster = np.full((height, width), np.nan, dtype=np.float32)\n",
    "\n",
    "# Extract coordinates of substations\n",
    "substation_coords = np.array(list(zip(substations.geometry.x, substations.geometry.y)))\n",
    "\n",
    "# Create a spatial index using cKDTree for efficient distance computation\n",
    "tree = cKDTree(substation_coords)\n",
    "\n",
    "# Compute distances for each pixel\n",
    "for i in range(height):\n",
    "    for j in range(width):\n",
    "        x = xmin + j * resolution + resolution / 2\n",
    "        y = ymax - i * resolution - resolution / 2\n",
    "        dist, _ = tree.query((x, y))\n",
    "        raster[i, j] = dist / 1000  # converts it to km\n",
    "\n",
    "\n",
    "transform = from_origin(xmin, ymax, resolution, resolution)\n",
    "\n",
    "# Save raster to file\n",
    "with rasterio.open(\n",
    "    \"./Data/distance_raster_proj_alt.tif\", \"w\", driver=\"GTiff\", height=height, width=width,\n",
    "    count=1, dtype=np.float32, crs=\"EPSG:32610\", transform=transform\n",
    ") as dst:\n",
    "    dst.write(raster, 1)\n",
    "\n",
    "\n"
   ]
  }
 ],
 "metadata": {
  "kernelspec": {
   "display_name": "Python 3 (ipykernel)",
   "language": "python",
   "name": "python3"
  },
  "language_info": {
   "codemirror_mode": {
    "name": "ipython",
    "version": 3
   },
   "file_extension": ".py",
   "mimetype": "text/x-python",
   "name": "python",
   "nbconvert_exporter": "python",
   "pygments_lexer": "ipython3",
   "version": "3.11.6"
  }
 },
 "nbformat": 4,
 "nbformat_minor": 5
}
