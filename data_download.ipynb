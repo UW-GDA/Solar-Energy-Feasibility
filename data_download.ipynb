{
 "cells": [
  {
   "cell_type": "code",
   "execution_count": 1,
   "id": "34a6b4be-fbba-49b9-88e6-f68d51c40ac1",
   "metadata": {},
   "outputs": [],
   "source": [
    "import os\n",
    "import zipfile\n",
    "import rasterio\n",
    "import requests\n",
    "import shutil\n",
    "\n",
    "import xarray as xr\n",
    "import rioxarray as rxr\n",
    "import geopandas as gpd\n",
    "import numpy as np\n",
    "import matplotlib.pyplot as plt\n",
    "\n",
    "from rasterio.features import shapes\n",
    "from shapely.geometry import shape"
   ]
  },
  {
   "cell_type": "markdown",
   "id": "0d674e5a-7288-4a37-8665-2abb67a7bace",
   "metadata": {},
   "source": [
    "# Land Cover"
   ]
  },
  {
   "cell_type": "raw",
   "id": "9ffa8708-e0fe-426a-b184-2c824f81d105",
   "metadata": {},
   "source": [
    "Link to export: https://earthobs3.arcgis.com/arcgis/rest/services/ESA_CCI_Land_Cover_Time_Series/ImageServer/exportImage\n",
    "\n",
    "bbox: -117.823629, 47.259272, -117.039763, 48.047877\n",
    "bbox spatial ref: 4326\n",
    "img size: 800,800\n",
    "img ref: 4326\n",
    "img format: TIFF\n",
    "pixel type: U8\n",
    "Compress: 75\n",
    "Return Square Pixels: True\n",
    "Validate Extent: True \n",
    "\n",
    "Export POST, copy href into url below:"
   ]
  },
  {
   "cell_type": "code",
   "execution_count": 4,
   "id": "8bfe3582-57bf-498e-bf12-40b921d3abb1",
   "metadata": {},
   "outputs": [
    {
     "name": "stdout",
     "output_type": "stream",
     "text": [
      "Downloaded!\n"
     ]
    }
   ],
   "source": [
    "land_url = \"https://earthobs3.arcgis.com/arcgis/rest/directories/arcgisoutput/ESA_CCI_Land_Cover_Time_Series_ImageServer/x_____xjC62XuDzSxux2or5yFTBmQ..x_____x_ags_65dc476d_ddb1_4a5b_a8f2_791f5c389d5f.tif\"\n",
    "\n",
    "land_response = requests.get(land_url)\n",
    "\n",
    "if land_response.status_code == 200:\n",
    "    with open(\"Data/land_use.tif\", \"wb\") as f:\n",
    "        f.write(land_response.content)\n",
    "    print(\"Downloaded!\")\n",
    "else:\n",
    "    print(f\"Status code: {land_response.status_code}\")"
   ]
  },
  {
   "cell_type": "markdown",
   "id": "c83faf64-5bda-41bc-ae44-adeaaa2096f0",
   "metadata": {},
   "source": [
    "# Radiation"
   ]
  },
  {
   "cell_type": "raw",
   "id": "eebffe71-af93-4c40-8771-1ce1536b1a44",
   "metadata": {},
   "source": [
    "Link to export: https://gis.earthdata.nasa.gov/image/rest/services/POWER/POWER_901_MONTHLY_RADIATION_UTC/ImageServer/exportImage\n",
    "\n",
    "bbox:-117.823629, 47.259272, -117.039763, 48.047877\n",
    "bbox spatial ref: 4326\n",
    "img size: 800,800\n",
    "img ref: 4326\n",
    "img format: TIFF\n",
    "pixel type: F64\n",
    "Compress: 75\n",
    "Return Square Pixels: True\n",
    "Validate Extent: True \n",
    "\n",
    "Export POST, copy href into url below:"
   ]
  },
  {
   "cell_type": "code",
   "execution_count": 3,
   "id": "08d0d478-4750-4ac7-9702-9a1bb0057bcc",
   "metadata": {},
   "outputs": [
    {
     "name": "stdout",
     "output_type": "stream",
     "text": [
      "Downloaded!\n"
     ]
    }
   ],
   "source": [
    "ra_url = \"https://gis.earthdata.nasa.gov/image/rest/directories/arcgisoutput/POWER/POWER_901_MONTHLY_RADIATION_UTC_ImageServer/_ags_a480f436_85ac_4dbb_bd50_11720c9b686b.tif\"\n",
    "\n",
    "ra_response = requests.get(ra_url)\n",
    "\n",
    "if ra_response.status_code == 200:\n",
    "    with open(\"Data/radiation.tif\", \"wb\") as f:\n",
    "          f.write(ra_response.content)\n",
    "    print(\"Downloaded!\")\n",
    "else:\n",
    "    print(f\"Status code: {ra_response.status_code}\")"
   ]
  },
  {
   "cell_type": "code",
   "execution_count": null,
   "id": "83b99f87-117e-4a45-ab5c-5cd4243a6aa2",
   "metadata": {},
   "outputs": [],
   "source": []
  }
 ],
 "metadata": {
  "kernelspec": {
   "display_name": "Python 3 (ipykernel)",
   "language": "python",
   "name": "python3"
  },
  "language_info": {
   "codemirror_mode": {
    "name": "ipython",
    "version": 3
   },
   "file_extension": ".py",
   "mimetype": "text/x-python",
   "name": "python",
   "nbconvert_exporter": "python",
   "pygments_lexer": "ipython3",
   "version": "3.11.6"
  }
 },
 "nbformat": 4,
 "nbformat_minor": 5
}
