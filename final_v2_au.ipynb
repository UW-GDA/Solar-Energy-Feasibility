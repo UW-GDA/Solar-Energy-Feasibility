{
 "cells": [
  {
   "cell_type": "markdown",
   "id": "1cad5130-6b03-4a51-acad-8c95fe6ee299",
   "metadata": {},
   "source": [
    "# Spokane Solar Suitability\n",
    "### Areeba Usman & Rose Martin\n",
    "### \n",
    "---"
   ]
  },
  {
   "cell_type": "markdown",
   "id": "0e682705-e150-41ec-bc58-26f865dc7378",
   "metadata": {},
   "source": [
    "## Section 0: Load in data and import packages"
   ]
  },
  {
   "cell_type": "code",
   "execution_count": null,
   "id": "f6e8d3b0-5424-403e-a6d7-fbda1eeb616e",
   "metadata": {},
   "outputs": [],
   "source": [
    "!pip install -q censusdata"
   ]
  },
  {
   "cell_type": "code",
   "execution_count": null,
   "id": "2985dfe4-40e7-4324-b25b-901d68b10159",
   "metadata": {},
   "outputs": [],
   "source": [
    "import os\n",
    "import shutil\n",
    "import zipfile\n",
    "import requests\n",
    "import censusdata\n",
    "import rasterstats\n",
    "import numpy as np\n",
    "import pandas as pd\n",
    "import xarray as xr\n",
    "import seaborn as sns\n",
    "import rasterio as rio\n",
    "import geopandas as gpd\n",
    "import rioxarray as rxr\n",
    "from pathlib import Path\n",
    "import contextily as ctx\n",
    "from scipy.ndimage import label\n",
    "import matplotlib.pyplot as plt\n",
    "from scipy.spatial import cKDTree\n",
    "import xyzservices.providers as xyz\n",
    "from rasterio.features import rasterize\n",
    "from rasterio import plot, mask, features\n",
    "from rasterio.transform import from_origin\n",
    "from matplotlib_scalebar.scalebar import ScaleBar\n",
    "from shapely.geometry import Point, Polygon, shape, box\n",
    "from rasterio.warp import calculate_default_transform, reproject, Resampling"
   ]
  },
  {
   "cell_type": "markdown",
   "id": "61351450-964f-4c75-909d-61977df0199b",
   "metadata": {},
   "source": [
    "---\n",
    "## Section 1: Loading Zone\n",
    "### Census Data"
   ]
  },
  {
   "cell_type": "code",
   "execution_count": null,
   "id": "13d14ab7-5c90-46d0-a550-d72be86df8e9",
   "metadata": {},
   "outputs": [],
   "source": [
    "#Functions taken from lab 5\n",
    "def get_census_data(tables, state, county, year=2019):\n",
    "    '''Download census data for a given state and county fips code.'''\n",
    "\n",
    "    # Download the data\n",
    "    data = censusdata.download('acs5', year,  # Use 2019 ACS 5-year estimates\n",
    "                               censusdata.censusgeo([('state', state), ('county', county), ('tract', '*')]),\n",
    "                               list(tables.keys()))\n",
    "\n",
    "    # Rename the column\n",
    "    data.rename(columns=tables, inplace=True)\n",
    "\n",
    "    # Extract information from the first column\n",
    "    data['Name'] = data.index.to_series().apply(lambda x: x.name)\n",
    "    data['SummaryLevel'] = data.index.to_series().apply(lambda x: x.sumlevel())\n",
    "    data['State'] = data.index.to_series().apply(lambda x: x.geo[0][1])\n",
    "    data['County'] = data.index.to_series().apply(lambda x: x.geo[1][1])\n",
    "    data['Tract'] = data.index.to_series().apply(lambda x: x.geo[2][1])\n",
    "    data.reset_index(drop=True, inplace=True)\n",
    "    data = data[['Tract','Name']+list(tables.values())].set_index('Tract')\n",
    "    \n",
    "    return data\n",
    "\n",
    "def get_census_tract_geom(state_fips, county_fips):\n",
    "    '''Download census tract geometries for a given state and county fips code, storing in /tmp and cleaning up after.'''\n",
    "\n",
    "    temp_dir = \"/tmp/census_tracts\"\n",
    "    zip_path = os.path.join(temp_dir, f'tl_2019_{state_fips}_tract.zip')\n",
    "\n",
    "    # Ensure temp directory exists\n",
    "    os.makedirs(temp_dir, exist_ok=True)\n",
    "\n",
    "    # Download the file\n",
    "    url = f'https://www2.census.gov/geo/tiger/TIGER2019/TRACT/tl_2019_{state_fips}_tract.zip'\n",
    "    response = requests.get(url, stream=True)\n",
    "    if response.status_code != 200:\n",
    "        raise Exception(f\"Failed to download file: {url}\")\n",
    "\n",
    "    # Save ZIP file to temp directory\n",
    "    with open(zip_path, \"wb\") as file:\n",
    "        file.write(response.content)\n",
    "\n",
    "    # Extract the ZIP file\n",
    "    with zipfile.ZipFile(zip_path, \"r\") as zip_ref:\n",
    "        zip_ref.extractall(temp_dir)\n",
    "\n",
    "    # Find the shapefile in extracted contents\n",
    "    for file in os.listdir(temp_dir):\n",
    "        if file.endswith(\".shp\"):\n",
    "            shapefile_path = os.path.join(temp_dir, file)\n",
    "            break\n",
    "\n",
    "    # Read the shapefile into a GeoDataFrame\n",
    "    tracts = gpd.read_file(shapefile_path)\n",
    "\n",
    "    # Filter by county and set index\n",
    "    tracts = tracts[tracts['COUNTYFP'] == county_fips]\n",
    "    tracts = tracts.rename(columns={'TRACTCE': 'Tract'}).set_index('Tract')\n",
    "\n",
    "    # Cleanup: Remove extracted files and ZIP file\n",
    "    shutil.rmtree(temp_dir)\n",
    "\n",
    "    return tracts[['geometry']]\n",
    "\n"
   ]
  },
  {
   "cell_type": "code",
   "execution_count": null,
   "id": "e9da61b6-35c2-4f98-a002-4b1cfe894029",
   "metadata": {},
   "outputs": [],
   "source": [
    "tables = {\n",
    "'B19013_001E': 'MedianIncome',\n",
    "'B01003_001E': 'TotalPopulation',\n",
    "'B25064_001E': 'MedianGrossRent',\n",
    "'B25077_001E': 'MedianHomeValue',\n",
    "'B25035_001E': 'MedianYearStructureBuilt',\n",
    "'B25001_001E': 'TotalHousingUnits',\n",
    "'B25004_001E': 'TotalVacantHousingUnits',\n",
    "'B25003_002E': 'OccupiedHousingUnitsOwnerOccupied',\n",
    "'B25003_003E': 'OccupiedHousingUnitsRenterOccupied',\n",
    "}"
   ]
  },
  {
   "cell_type": "code",
   "execution_count": null,
   "id": "ec72420b-40ec-47b4-bf35-8116a9897df5",
   "metadata": {},
   "outputs": [],
   "source": [
    "## FIPS Code for Washington\n",
    "state_fips = '53' \n",
    "\n",
    "## FIPS code for Spokane County\n",
    "county_fips = '063'  "
   ]
  },
  {
   "cell_type": "code",
   "execution_count": null,
   "id": "b040d3f4-11b9-4d4f-9d8b-84dffa0442ec",
   "metadata": {},
   "outputs": [],
   "source": [
    "census_df = get_census_data(tables, state_fips, county_fips)\n",
    "tract_geom_gdf = get_census_tract_geom(state_fips, county_fips)\n",
    "tract_geom_gdf_fo_proj = tract_geom_gdf"
   ]
  },
  {
   "cell_type": "code",
   "execution_count": null,
   "id": "6315534c-b250-4603-be34-fa0ca2778423",
   "metadata": {},
   "outputs": [],
   "source": [
    "census_Spokane_gdf = gpd.GeoDataFrame(census_df.join(tract_geom_gdf))\n",
    "census_Spokane_gdf =  census_Spokane_gdf.to_crs('epsg:32610')\n",
    "#census_df.head()"
   ]
  },
  {
   "cell_type": "markdown",
   "id": "38bae09b-fe8e-4367-8586-760a1d2a8645",
   "metadata": {},
   "source": [
    "#### AEA Projection around Spokane"
   ]
  },
  {
   "cell_type": "code",
   "execution_count": null,
   "id": "ca80281f-fc16-4dfb-87ab-1da7314c91a7",
   "metadata": {},
   "outputs": [],
   "source": [
    "hull = tract_geom_gdf_fo_proj.geometry.unary_union.convex_hull\n",
    "cent = hull.centroid\n",
    "\n",
    "cent_lon =cent.x\n",
    "cent_lat = cent.y\n",
    "min_lat = tract_geom_gdf_fo_proj.bounds[\"miny\"].min().item()\n",
    "max_lat = tract_geom_gdf_fo_proj.bounds[\"maxy\"].max().item()"
   ]
  },
  {
   "cell_type": "code",
   "execution_count": null,
   "id": "4adff7ec-d71b-43d1-a3ad-d2446d2d3e2f",
   "metadata": {},
   "outputs": [],
   "source": [
    "proj_str_aea = f'+proj=aea +lat_1={min_lat:0.2f} +lat_2={max_lat:0.2f} +lat_0={cent_lat:0.2f} +lon_0={cent_lon:0.2f}'\n",
    "print(proj_str_aea)"
   ]
  },
  {
   "cell_type": "markdown",
   "id": "4d4f5848-f861-4a86-9fa9-2eb187bf37ca",
   "metadata": {},
   "source": [
    "### States"
   ]
  },
  {
   "cell_type": "code",
   "execution_count": null,
   "id": "d2c9c82d-32ac-4d46-96fe-c3e69bf01500",
   "metadata": {},
   "outputs": [],
   "source": [
    "states_url = 'http://eric.clst.org/assets/wiki/uploads/Stuff/gz_2010_us_040_00_500k.json'\n",
    "states_gdf = gpd.read_file(states_url)\n",
    "states_gdf.head()"
   ]
  },
  {
   "cell_type": "code",
   "execution_count": null,
   "id": "d937d752-201e-4b1b-88af-483561b960d9",
   "metadata": {},
   "outputs": [],
   "source": [
    "## 32048 is the EPSG recommended for Spokane County\n",
    "states_proj_gdf = states_gdf.to_crs(4326)\n",
    "\n",
    "WA_idx = states_proj_gdf[\"NAME\"].isin([\"Washington\"])\n",
    "wa_state_gdf = states_proj_gdf[WA_idx]"
   ]
  },
  {
   "cell_type": "markdown",
   "id": "2f13f9e6-9442-45f6-8cff-6e95657ff59b",
   "metadata": {},
   "source": [
    "### Flood Plains"
   ]
  },
  {
   "cell_type": "code",
   "execution_count": null,
   "id": "b0136eb5-78e9-4837-9f4d-a0f5fe31721e",
   "metadata": {},
   "outputs": [],
   "source": [
    "floodplains_fn = './Data/FEMA_Flood_Zone.geojson'\n",
    "floodplains_gdf = gpd.read_file(floodplains_fn)"
   ]
  },
  {
   "cell_type": "code",
   "execution_count": null,
   "id": "ac67ed08-c252-4403-8a07-7e4c23d694c8",
   "metadata": {},
   "outputs": [],
   "source": [
    "floodplains_gdf = floodplains_gdf.set_crs(4326)\n",
    "floodplains_gdf.head()"
   ]
  },
  {
   "cell_type": "markdown",
   "id": "bca51685-7673-4974-afd2-ec4560509bee",
   "metadata": {},
   "source": [
    "#### Binary Flood Plain Raster"
   ]
  },
  {
   "cell_type": "code",
   "execution_count": null,
   "id": "ddfda5bf-86b0-4f6f-a2e1-342d453e346a",
   "metadata": {},
   "outputs": [],
   "source": [
    "# Reproject to projected CRS\n",
    "floodplains_gdf = floodplains_gdf.to_crs(proj_str_aea)\n",
    "tract_geom_gdf = tract_geom_gdf.to_crs(proj_str_aea)\n",
    "\n",
    "# Get bounds of the area of interest\n",
    "xmin, ymin, xmax, ymax = tract_geom_gdf.total_bounds\n",
    "\n",
    "# Define the resolution of the raster (in meters)\n",
    "resolution = 100  # Change as needed\n",
    "width = int((xmax - xmin) / resolution)\n",
    "height = int((ymax - ymin) / resolution)\n",
    "\n",
    "# Define transform for rasterization\n",
    "transform = from_origin(xmin, ymax, resolution, resolution)\n",
    "\n",
    "# Create binary raster mask of floodplain areas (value = 0)\n",
    "shapes_floodplain = [(geom, 0) for geom in floodplains_gdf.geometry]\n",
    "raster = rasterize(shapes_floodplain, out_shape=(height, width), transform=transform, fill=1, dtype=np.float32)\n",
    "\n",
    "# Create a 500-meter buffer around floodplain areas\n",
    "floodplains_gdf[\"geometry\"] = floodplains_gdf.geometry.buffer(500)\n",
    "\n",
    "# Rasterize the buffered floodplain areas (value = 0.5), but only overwrite areas that are still 1\n",
    "shapes_buffer = [(geom, 0.5) for geom in floodplains_gdf.geometry]\n",
    "buffer_raster = rasterize(shapes_buffer, out_shape=(height, width), transform=transform, fill=1, dtype=np.float32)\n",
    "\n",
    "# Merge rasters: Keep original 0s, overwrite 1s with buffer values (0.5)\n",
    "raster[(raster == 1) & (buffer_raster == 0.5)] = 0.5\n",
    "\n",
    "# Save raster to file\n",
    "with rio.open(\n",
    "    \"./Data/floodplain_with_buffer.tif\", \"w\", driver=\"GTiff\", height=height, width=width,\n",
    "    count=1, dtype=np.float32, crs=proj_str_aea, transform=transform\n",
    ") as dst:\n",
    "    dst.write(raster, 1)\n"
   ]
  },
  {
   "cell_type": "code",
   "execution_count": null,
   "id": "68293905-2f7e-4541-abc5-217597f10554",
   "metadata": {},
   "outputs": [],
   "source": [
    "floodplain_buffer_fn = \"./Data/floodplain_with_buffer.tif\"\n",
    "floodplain_buffer_data = rxr.open_rasterio(floodplain_buffer_fn).squeeze()"
   ]
  },
  {
   "cell_type": "markdown",
   "id": "0375aaa9-d40b-4f42-a187-73efd178f0b0",
   "metadata": {},
   "source": [
    "### Slope Data"
   ]
  },
  {
   "cell_type": "code",
   "execution_count": null,
   "id": "8ffb03a1-0a20-40f6-9498-aaefdacabfc2",
   "metadata": {},
   "outputs": [],
   "source": [
    "dst_crs = 'EPSG:32610'"
   ]
  },
  {
   "cell_type": "code",
   "execution_count": null,
   "id": "2401b367-f25c-47f7-8f24-ac42d4d6eaf6",
   "metadata": {},
   "outputs": [],
   "source": [
    "dem_data = f'{Path.home()}/gda_demo_data/dem_data'\n",
    "dem_fn = os.path.join(dem_data, \"WA_COP90.tif\")"
   ]
  },
  {
   "cell_type": "code",
   "execution_count": null,
   "id": "db1d7573-d4d9-46a4-aa9c-f8dbda5c8dcd",
   "metadata": {},
   "outputs": [],
   "source": [
    "proj_fn = os.path.splitext(dem_fn)[0]+'_utm_gdalwarp.tif'\n",
    "slope_fn = os.path.splitext(proj_fn)[0]+'_slope.tif'"
   ]
  },
  {
   "cell_type": "code",
   "execution_count": null,
   "id": "330a58cd-f237-4392-9530-bd885e9cf9e7",
   "metadata": {},
   "outputs": [],
   "source": [
    "!gdaldem slope $proj_fn $slope_fn"
   ]
  },
  {
   "cell_type": "code",
   "execution_count": null,
   "id": "1a5fff39-723d-44dc-abe6-892dfbc935d0",
   "metadata": {},
   "outputs": [],
   "source": [
    "slope_ras = rxr.open_rasterio(slope_fn, masked=True).squeeze()"
   ]
  },
  {
   "cell_type": "markdown",
   "id": "503ae223-879d-446b-99c6-94aef78ce302",
   "metadata": {},
   "source": [
    "### Substation Distance"
   ]
  },
  {
   "cell_type": "code",
   "execution_count": null,
   "id": "be9ec772-e579-46b8-a963-c720f7db689c",
   "metadata": {},
   "outputs": [],
   "source": [
    "#This Code was aquired using the help of ChatGPT\n",
    "# URL of the ArcGIS FeatureServer\n",
    "url = \"https://services6.arcgis.com/OO2s4OoyCZkYJ6oE/arcgis/rest/services/Substations/FeatureServer/0/query\"\n",
    "\n",
    "resolution = 100 \n",
    "\n",
    "# Define query parameters for the request\n",
    "params = {\n",
    "    \"where\": \"COUNTY = 'SPOKANE'\",  # Filter for records where the STATE field is 'WA'\n",
    "    \"outFields\": \"*\",  # Fetch all fields\n",
    "    \"f\": \"geojson\"  # Request GeoJSON format\n",
    "}\n",
    "\n",
    "# Send the request and get the response\n",
    "response = requests.get(url, params=params)\n",
    "\n",
    "# Check if the request was successful\n",
    "if response.status_code == 200:\n",
    "    # Load the GeoJSON into a GeoDataFrame\n",
    "    substation_gdf = gpd.read_file(response.text)\n",
    "\n",
    "else:\n",
    "    print(f\"Failed to fetch data: {response.status_code}\")"
   ]
  },
  {
   "cell_type": "code",
   "execution_count": null,
   "id": "b9a78586-ef57-48ee-a385-6efcb784e00a",
   "metadata": {},
   "outputs": [],
   "source": [
    "# Code aquired from CHAT\n",
    "substations = substation_gdf\n",
    "\n",
    "substations = substations.to_crs(epsg=32610)\n",
    "substations = substations.to_crs(proj_str_aea)\n",
    "tract_geom_gdf =tract_geom_gdf.to_crs(proj_str_aea)\n",
    "\n",
    "# Get the bounding box from substations\n",
    "xmin, ymin, xmax, ymax = tract_geom_gdf.total_bounds\n",
    "\n",
    "# Define the resolution of the raster (in meters)\n",
    "resolution = 100  # Change this as needed (e.g., 100 meters per pixel)\n",
    "width = int((xmax - xmin) / resolution)\n",
    "height = int((ymax - ymin) / resolution)\n",
    "\n",
    "\n",
    "raster = np.full((height, width), np.nan, dtype=np.float32)\n",
    "\n",
    "# Extract coordinates of substations\n",
    "substation_coords = np.array(list(zip(substations.geometry.x, substations.geometry.y)))\n",
    "\n",
    "# Create a spatial index using cKDTree for efficient distance computation\n",
    "tree = cKDTree(substation_coords)\n",
    "\n",
    "# Compute distances for each pixel\n",
    "for i in range(height):\n",
    "    for j in range(width):\n",
    "        x = xmin + j * resolution + resolution / 2\n",
    "        y = ymax - i * resolution - resolution / 2\n",
    "        dist, _ = tree.query((x, y))\n",
    "        raster[i, j] = dist / 1000  # converts it to km\n",
    "\n",
    "\n",
    "transform = from_origin(xmin, ymax, resolution, resolution)\n",
    "\n",
    "# Save raster to file\n",
    "with rio.open(\n",
    "    \"./Data/distance_raster_proj_alt.tif\", \"w\", driver=\"GTiff\", height=height, width=width,\n",
    "    count=1, dtype=np.float32, crs=proj_str_aea, transform=transform\n",
    ") as dst:\n",
    "    dst.write(raster, 1)"
   ]
  },
  {
   "cell_type": "code",
   "execution_count": null,
   "id": "409b2b5a-8450-45b3-856b-239fede976f9",
   "metadata": {},
   "outputs": [],
   "source": [
    "substation_distance_raster_fn = \"./Data/distance_raster_proj_alt.tif\"\n",
    "substation_distance_raster_data = rxr.open_rasterio(substation_distance_raster_fn).squeeze()"
   ]
  },
  {
   "cell_type": "markdown",
   "id": "b1059f0d-9599-416f-a288-f4b352bdee2a",
   "metadata": {},
   "source": [
    "### Radiation"
   ]
  },
  {
   "cell_type": "code",
   "execution_count": null,
   "id": "8752fb01-5977-469a-b526-fedd5e5e888c",
   "metadata": {},
   "outputs": [],
   "source": [
    "## Only run once!\n",
    "\n",
    "radiation_fn = \"./Data/radiation.tif\"\n",
    "radiation = rxr.open_rasterio(radiation_fn).squeeze()"
   ]
  },
  {
   "cell_type": "markdown",
   "id": "4edac7ef-a329-4a51-8e32-1a2697a73b56",
   "metadata": {},
   "source": [
    "### Land Use"
   ]
  },
  {
   "cell_type": "code",
   "execution_count": null,
   "id": "43a3b2d7-4597-41a2-8a3a-997be81c42f4",
   "metadata": {},
   "outputs": [],
   "source": [
    "land_use_fn = \"./Data/land_use.tif\"\n",
    "proj_land_fn = os.path.splitext(land_use_fn)[0]+'_utm_gdalwarp.tif'"
   ]
  },
  {
   "cell_type": "code",
   "execution_count": null,
   "id": "2b4912bf-fc9a-4603-8808-c5a2a78c08ee",
   "metadata": {},
   "outputs": [],
   "source": [
    "dst_crs = 'EPSG:4326'\n",
    "\n",
    "!gdalwarp -srcnodata 0 -t_srs $dst_crs $land_use_fn $proj_land_fn"
   ]
  },
  {
   "cell_type": "code",
   "execution_count": null,
   "id": "a4517389-af78-418e-a3f9-2654f4d66898",
   "metadata": {},
   "outputs": [],
   "source": [
    "land_use_da = rxr.open_rasterio(proj_land_fn).squeeze()"
   ]
  },
  {
   "cell_type": "markdown",
   "id": "7e20540c-7560-49a7-be0a-a4bca74dbead",
   "metadata": {},
   "source": [
    "---\n",
    "## Section 2A: Data Prep"
   ]
  },
  {
   "cell_type": "markdown",
   "id": "69db0fed-aefe-42e2-8a37-54bf61c9ec89",
   "metadata": {},
   "source": [
    "### CRS Projection Match to Spokane AEA"
   ]
  },
  {
   "cell_type": "code",
   "execution_count": null,
   "id": "eca5d0a2-0a56-4147-8c76-4f909e882fa2",
   "metadata": {},
   "outputs": [],
   "source": [
    "slope_ras = slope_ras.rio.reproject(proj_str_aea)\n",
    "\n",
    "land_use_da = land_use_da.rio.reproject(proj_str_aea)\n",
    "\n",
    "radiation = radiation.rio.reproject(proj_str_aea)\n",
    "\n",
    "census_Spokane_gdf = census_Spokane_gdf.to_crs(proj_str_aea)\n",
    "\n",
    "tract_geom_gdf = tract_geom_gdf.to_crs(proj_str_aea)\n",
    "\n",
    "floodplains_gdf = floodplains_gdf.to_crs(proj_str_aea)\n",
    "\n",
    "substation_gdf = substation_gdf.to_crs(proj_str_aea)\n",
    "\n",
    "census_geom = census_Spokane_gdf.geometry.unary_union"
   ]
  },
  {
   "cell_type": "markdown",
   "id": "77d4338c-dc84-41c9-91c0-6bcf99502c38",
   "metadata": {},
   "source": [
    "### Clipping all data to available land in Spokane"
   ]
  },
  {
   "cell_type": "code",
   "execution_count": null,
   "id": "300a4bb5-9459-42ec-a361-425a2a68aed6",
   "metadata": {},
   "outputs": [],
   "source": [
    "slope = slope_ras.rio.clip([census_geom])\n",
    "land_use = land_use_da.rio.clip([census_geom])\n",
    "radiation = radiation.rio.clip([census_geom])\n",
    "substation_distance = substation_distance_raster_data.rio.clip([census_geom])\n",
    "floodplain_buffer = floodplain_buffer_data.rio.clip([census_geom])"
   ]
  },
  {
   "cell_type": "markdown",
   "id": "eb53aa4a-20aa-442c-a044-544594b4386d",
   "metadata": {},
   "source": [
    "### Matching Resolutions"
   ]
  },
  {
   "cell_type": "code",
   "execution_count": null,
   "id": "fcac9595-9366-4765-a46c-f97933446b72",
   "metadata": {},
   "outputs": [],
   "source": [
    "land_use = land_use_da.rio.reproject_match(floodplain_buffer_data)\n",
    "radiation = radiation.rio.reproject_match(floodplain_buffer_data)\n",
    "slope = slope.rio.reproject_match(floodplain_buffer_data)"
   ]
  },
  {
   "cell_type": "code",
   "execution_count": null,
   "id": "a1963362-a955-4fa5-834b-4c9c838f7487",
   "metadata": {},
   "outputs": [],
   "source": [
    "print(radiation.rio.resolution(), \n",
    "      slope.rio.resolution(), \n",
    "      land_use.rio.resolution(),\n",
    "      substation_distance.rio.resolution(),\n",
    "      floodplain_buffer.rio.resolution())"
   ]
  },
  {
   "cell_type": "markdown",
   "id": "f3fe9780-afe8-4542-8d54-2b75424341f9",
   "metadata": {},
   "source": [
    "# Plotting"
   ]
  },
  {
   "cell_type": "code",
   "execution_count": null,
   "id": "c4cbd3e4-c01c-4c31-94c7-7d1972f7affe",
   "metadata": {},
   "outputs": [],
   "source": [
    "ds = [radiation, slope, land_use, substation_distance, floodplain_buffer]\n",
    "titles = ['Radiation', 'Slope', 'Land Use', 'Substation Distance', 'Floodplain Buffer']\n",
    "cmap = ['magma', 'terrain_r', 'terrain_r', 'viridis', 'magma']\n",
    "\n",
    "n_rows = (len(ds) + 1) // 2\n",
    "\n",
    "fig, axs = plt.subplots(n_rows, 2, figsize=(12, n_rows * 5))\n",
    "\n",
    "# Flatten axs in case there's only one row\n",
    "axs = axs.flatten()\n",
    "\n",
    "for i, (data, title, cmap) in enumerate(zip(ds, titles, cmap)):\n",
    "    data.plot(ax=axs[i], cmap=cmap)\n",
    "    axs[i].set_title(title)\n",
    "    axs[i].axis('on')\n",
    "\n",
    "for j in range(i + 1, len(axs)):\n",
    "    fig.delaxes(axs[j])\n",
    "\n",
    "plt.tight_layout()\n",
    "plt.show()"
   ]
  },
  {
   "cell_type": "markdown",
   "id": "025bf65a-2d3b-4cdd-875b-0b727ab47603",
   "metadata": {},
   "source": [
    "---\n",
    "## Section 2B: Merging all data to XDarray Datafrane & Summary Table"
   ]
  },
  {
   "cell_type": "code",
   "execution_count": null,
   "id": "32c7e4b2-cd5d-40e0-9937-edf4dd1888db",
   "metadata": {},
   "outputs": [],
   "source": [
    "floodplain_buffer.name = 'Flood_Zones'\n",
    "substation_distance.name = 'Substation_Distance'\n",
    "radiation.name = 'Radiation'\n",
    "land_use.name = 'Land_Use'\n",
    "slope.name = 'Slope'"
   ]
  },
  {
   "cell_type": "code",
   "execution_count": null,
   "id": "09e4d51a-b9d6-4538-bcfe-ba46e53fbbbf",
   "metadata": {},
   "outputs": [],
   "source": [
    "merged_df = xr.merge([floodplain_buffer, \n",
    "                      slope, \n",
    "                      substation_distance, \n",
    "                      radiation, \n",
    "                      land_use])\n",
    "merged_df"
   ]
  },
  {
   "cell_type": "markdown",
   "id": "9998ec16-179d-4828-8425-16b92cf9a586",
   "metadata": {},
   "source": [
    "### Summary Table"
   ]
  },
  {
   "cell_type": "code",
   "execution_count": null,
   "id": "5b6d16fe-024e-4556-88c9-75ff5822c404",
   "metadata": {},
   "outputs": [],
   "source": [
    "st = merged_df.mean()\n",
    "st = merged_df.to_dataframe().describe()\n",
    "st"
   ]
  },
  {
   "cell_type": "markdown",
   "id": "b6f43c98-0db9-4194-ac5f-e404ce394406",
   "metadata": {},
   "source": [
    "## Section 3: Classifying & Scaling DF "
   ]
  },
  {
   "cell_type": "code",
   "execution_count": null,
   "id": "3a8fff85-4e7f-4e74-819c-42662ad2789d",
   "metadata": {},
   "outputs": [],
   "source": [
    "scale = merged_df"
   ]
  },
  {
   "cell_type": "code",
   "execution_count": null,
   "id": "24d8e62c-97d9-4d0a-935c-89dbd151274c",
   "metadata": {},
   "outputs": [],
   "source": [
    "scale['Land_Use'] = xr.where((scale['Land_Use'] >= 150) & (scale['Land_Use'] <= 180) | (scale['Land_Use'] >= 210), 1, scale['Land_Use'])  # Water/Snow\n",
    "scale['Land_Use'] = xr.where((scale['Land_Use'] == 190), 2, scale['Land_Use'])  # Urban Areas\n",
    "scale['Land_Use'] = xr.where((scale['Land_Use'] >= 10) & (scale['Land_Use'] <= 20), 3, scale['Land_Use'])  # Farmland\n",
    "scale['Land_Use'] = xr.where((scale['Land_Use'] >= 50) & (scale['Land_Use'] <= 90) | (scale['Land_Use'] == 100), 4, scale['Land_Use'])  # Forests\n",
    "scale['Land_Use'] = xr.where((scale['Land_Use'] == 200), 5, scale['Land_Use'])  # Bare Areas\n",
    "scale['Land_Use'] = xr.where((scale['Land_Use'] == 30) | (scale['Land_Use'] >= 110) & (scale['Land_Use'] <= 140), 6, scale['Land_Use']) # Grasslands"
   ]
  },
  {
   "cell_type": "code",
   "execution_count": null,
   "id": "dd05c19b-28cf-4679-8d00-656689a293e5",
   "metadata": {},
   "outputs": [],
   "source": [
    "# Creates the scale for the substation distancce. Based on how far the substation is from each pixel\n",
    "scale[\"Flood_Zones\"] = merged_df.Flood_Zones * 6\n",
    "# Always reference original values from merged_df, ensuring that things are not being overwritten in the original\n",
    "original_values = merged_df[\"Substation_Distance\"]\n",
    "\n",
    "# Only update values in scale without overwriting previous changes\n",
    "scale[\"Substation_Distance\"] = xr.where(original_values <= 2.5, 6, scale[\"Substation_Distance\"])\n",
    "scale[\"Substation_Distance\"] = xr.where((original_values > 2.5) & (original_values <= 5), 5, scale[\"Substation_Distance\"])\n",
    "scale[\"Substation_Distance\"] = xr.where((original_values > 5) & (original_values <= 7.5), 4, scale[\"Substation_Distance\"])\n",
    "\n",
    "scale[\"Substation_Distance\"] = xr.where((original_values >= 7.5) & (original_values < 10), 3, scale[\"Substation_Distance\"])\n",
    "scale[\"Substation_Distance\"] = xr.where((original_values > 10) & (original_values <= 15), 2, scale[\"Substation_Distance\"])\n",
    "scale[\"Substation_Distance\"] = xr.where((original_values > 15), 1, scale[\"Substation_Distance\"])"
   ]
  },
  {
   "cell_type": "code",
   "execution_count": null,
   "id": "01ba211e-5f0b-4dca-9b5e-51a658b81d1b",
   "metadata": {},
   "outputs": [],
   "source": [
    "\n",
    "original_values = merged_df[\"Slope\"]\n",
    "\n",
    "# Slope is ranked by the best, 6, being the lowest slopes, and the worst, one being the steepest\n",
    "scale[\"Slope\"] = xr.where(original_values <= 5, 6, scale[\"Slope\"])\n",
    "scale[\"Slope\"] = xr.where((original_values > 5) & (original_values <= 10), 5, scale[\"Slope\"])\n",
    "scale[\"Slope\"] = xr.where((original_values > 10) & (original_values <= 15), 4, scale[\"Slope\"])\n",
    "\n",
    "#Any slope above 15 too steep and gets a value of one\n",
    "scale[\"Slope\"] = xr.where(original_values >= 15, 1, scale[\"Slope\"])\n"
   ]
  },
  {
   "cell_type": "code",
   "execution_count": null,
   "id": "62a20a92-4cdf-493e-a793-697374a2508e",
   "metadata": {},
   "outputs": [],
   "source": [
    "min_value = merged_df[\"Radiation\"].min().item()\n",
    "max_value = merged_df[\"Radiation\"].max().item()\n",
    "range_values = (max_value - min_value)/ 6"
   ]
  },
  {
   "cell_type": "code",
   "execution_count": null,
   "id": "0249214f-55aa-4a8f-bf53-7b68ce6297b6",
   "metadata": {},
   "outputs": [],
   "source": [
    "original_values = merged_df[\"Radiation\"]\n",
    "\n",
    "#Values seperated ransomly as the values are all within range for what is desired from a solar farm\n",
    "\n",
    "scale[\"Radiation\"] = xr.where((original_values > (max_value-range_values)) & (original_values <= max_value), 6, scale[\"Radiation\"])\n",
    "scale[\"Radiation\"] = xr.where((original_values > (max_value-range_values*2)) & (original_values <= (max_value - range_values)), 5, scale[\"Radiation\"])\n",
    "scale[\"Radiation\"] = xr.where((original_values > (max_value - range_values*3)) & (original_values <= (max_value - 2*range_values)), 4, scale[\"Radiation\"])\n",
    "scale[\"Radiation\"] = xr.where((original_values >= (min_value+ 2* range_values)) & (original_values <= (min_value + 3*range_values)), 3, scale[\"Radiation\"])\n",
    "scale[\"Radiation\"] = xr.where((original_values >= (min_value+range_values)) & (original_values <= (min_value + 2*range_values)), 2, scale[\"Radiation\"])\n",
    "scale[\"Radiation\"] = xr.where((original_values >= (min_value)) & (original_values <= (min_value + range_values)), 1, scale[\"Radiation\"])"
   ]
  },
  {
   "cell_type": "code",
   "execution_count": null,
   "id": "efa040ff-2fec-403b-8deb-37c02d4d59de",
   "metadata": {},
   "outputs": [],
   "source": [
    "## removes all the spots that are ether nan or 0 as those are the areas that are either outside the county border \n",
    "##    or have been marksed as flood plains. Removes these points from every raster.\n",
    "scale = scale.where((scale.Flood_Zones.notnull()) & (scale.Flood_Zones != 0), drop=True)"
   ]
  },
  {
   "cell_type": "code",
   "execution_count": null,
   "id": "ff2ed3aa-6cbe-4e16-b0fb-16aa28130b03",
   "metadata": {},
   "outputs": [],
   "source": [
    "ds = [scale[\"Radiation\"], scale[\"Slope\"], scale[\"Land_Use\"], scale[\"Substation_Distance\"], scale[\"Flood_Zones\"]]\n",
    "titles = ['Radiation', 'Slope', 'Land Use', 'Substation Distance', 'Floodplain Buffer']\n",
    "cmap = ['inferno', 'Greens', 'Greens_r', 'viridis', 'inferno']\n",
    "\n",
    "n_rows = (len(ds) + 1) // 2\n",
    "\n",
    "fig, axs = plt.subplots(n_rows, 2, figsize=(12, n_rows * 5))\n",
    "\n",
    "# Flatten axs in case there's only one row\n",
    "axs = axs.flatten()\n",
    "\n",
    "for i, (data, title, cmap) in enumerate(zip(ds, titles, cmap)):\n",
    "    data.plot(ax=axs[i], cmap=cmap)\n",
    "    axs[i].set_title(title)\n",
    "    axs[i].axis('on')\n",
    "\n",
    "for j in range(i + 1, len(axs)):\n",
    "    fig.delaxes(axs[j])\n",
    "\n",
    "plt.tight_layout()\n",
    "plt.show()"
   ]
  },
  {
   "cell_type": "markdown",
   "id": "b780b425-e053-4ad8-988f-8e3b14cb4bb6",
   "metadata": {},
   "source": [
    "## Section 4: Score Weight Calculation"
   ]
  },
  {
   "cell_type": "code",
   "execution_count": null,
   "id": "df00c7fb-ebeb-4cc0-bd65-3504e6d20068",
   "metadata": {},
   "outputs": [],
   "source": [
    "# It was determined that the score would be weighted based on the importance/influence of the variable\n",
    "# The weight was based on what we thoguht was most important but was also somewhat arbitrary\n",
    "\n",
    "# score = land use * 1 + substatin distacne * 1 + radiation * 0 .75 + slope * 1.25\n",
    "\n",
    "net_score_unweighted = scale[\"Radiation\"] + scale[\"Slope\"] + scale[\"Substation_Distance\"] + scale[\"Flood_Zones\"]\n",
    "net_score_weighted = scale[\"Radiation\"] * 0.75 + scale[\"Slope\"] * 1.25 + scale[\"Substation_Distance\"] * 1 + scale[\"Flood_Zones\"] * 0.25\n",
    "\n",
    "scale[\"net_score_weighted\"] = net_score_weighted\n",
    "scale['net_score_unweighted']= net_score_unweighted\n"
   ]
  },
  {
   "cell_type": "code",
   "execution_count": null,
   "id": "bebdce58-5527-49c2-8efa-af71f5cf22ba",
   "metadata": {},
   "outputs": [],
   "source": [
    "fig,ax = plt.subplots()\n",
    "scale.net_score_weighted.plot(ax=ax)\n",
    "tract_geom_gdf.plot(ax=ax, edgecolor=\"black\", facecolor = 'none')\n",
    "\n",
    "substation_gdf.plot(ax=ax, color='red', edgecolor='k',alpha=0.7)\n"
   ]
  },
  {
   "cell_type": "code",
   "execution_count": null,
   "id": "82fc42b3-e969-4fc1-a46d-21bd3372574f",
   "metadata": {},
   "outputs": [],
   "source": [
    "scale.net_score_unweighted.plot()"
   ]
  },
  {
   "cell_type": "code",
   "execution_count": null,
   "id": "66c48b79-5d5a-48c6-ac89-76cdfb39b06d",
   "metadata": {},
   "outputs": [],
   "source": [
    "print(scale_filtered)"
   ]
  },
  {
   "cell_type": "markdown",
   "id": "172a2a97-f8f8-4828-a171-e58b674cd9c2",
   "metadata": {},
   "source": [
    "## Section 5: Finding 200 acre-ft areas"
   ]
  },
  {
   "cell_type": "code",
   "execution_count": null,
   "id": "61ac2207-83f5-4c45-b3ca-a89fdf801c41",
   "metadata": {},
   "outputs": [],
   "source": [
    "scale_filtered = scale.where((scale.net_score_weighted > 22), drop=True)\n",
    "scale_filtered.net_score_weighted.plot.imshow(vmin = 0, vmax= 22)"
   ]
  },
  {
   "cell_type": "code",
   "execution_count": null,
   "id": "d851678b-ac65-4a47-9751-b29ab15a5781",
   "metadata": {},
   "outputs": [],
   "source": [
    "scale_filtered"
   ]
  },
  {
   "cell_type": "code",
   "execution_count": null,
   "id": "a72d0108-11f6-4c84-91a6-5e809642aed8",
   "metadata": {},
   "outputs": [],
   "source": [
    "\n",
    "ds = scale_filtered\n",
    "\n",
    "import numpy as np\n",
    "import xarray as xr\n",
    "import geopandas as gpd\n",
    "from shapely.geometry import box, Polygon\n",
    "from scipy.ndimage import label\n",
    "\n",
    "# Load your dataset (assuming it's already loaded as 'ds')\n",
    "# ds = xr.open_dataset(\"your_dataset.nc\")  # Uncomment if loading from a file\n",
    "\n",
    "# 404686 ft^2 is 100 acres\n",
    "TARGET_AREA_M2 = 80937.1\n",
    "\n",
    "# Get spatial resolution\n",
    "res_x = np.abs(ds.x[1] - ds.x[0])  # Grid cell width\n",
    "res_y = np.abs(ds.y[1] - ds.y[0])  # Grid cell height\n",
    "cell_area = res_x * res_y\n",
    "\n",
    "# Calculate target number of grid cells\n",
    "target_cells = int(TARGET_AREA_M2 / cell_area)\n",
    "\n",
    "# Get net score array\n",
    "net_score = ds.net_score_weighted.values\n",
    "\n",
    "# Create a binary mask for valid data (exclude NaNs)\n",
    "binary_mask = np.where(~np.isnan(net_score), 1, 0)\n",
    "\n",
    "# Label contiguous regions\n",
    "labeled_array, num_features = label(binary_mask)\n",
    "\n",
    "# List to store results\n",
    "results = []\n",
    "\n",
    "# Iterate through labeled regions\n",
    "for region_id in range(1, num_features + 1):\n",
    "    region_mask = labeled_array == region_id\n",
    "    \n",
    "    # Check total area\n",
    "    if np.sum(region_mask) < target_cells:\n",
    "        continue\n",
    "    \n",
    "    # Identify bounding box\n",
    "    y_indices, x_indices = np.where(region_mask)\n",
    "    x_min_idx, x_max_idx = np.min(x_indices), np.max(x_indices)\n",
    "    y_min_idx, y_max_idx = np.min(y_indices), np.max(y_indices)\n",
    "    \n",
    "    # Ensure at least 150 pixels wide\n",
    "    if (x_max_idx - x_min_idx) < 10:\n",
    "        continue\n",
    "    \n",
    "    # Get coordinates\n",
    "    x_min, x_max = ds.x[x_min_idx].values, ds.x[x_max_idx].values\n",
    "    y_min, y_max = ds.y[y_max_idx].values, ds.y[y_min_idx].values\n",
    "    \n",
    "    # Create geometry\n",
    "    geom = box(x_min, y_min, x_max, y_max)\n",
    "    \n",
    "    # Compute total score\n",
    "    score = np.nansum(net_score[region_mask])\n",
    "    \n",
    "    # Store result\n",
    "    results.append({\"score\": score, \"geometry\": geom})\n",
    "\n",
    "# Convert results to a GeoDataFrame\n",
    "gdf = gpd.GeoDataFrame(results, columns=[\"score\", \"geometry\"], crs=proj_str_aea)  # Adjust CRS as needed\n",
    "\n",
    "\n",
    "# Print summary\n",
    "print(gdf.head())"
   ]
  },
  {
   "cell_type": "code",
   "execution_count": null,
   "id": "7b88d3ae-7c7a-4c11-83a5-64f9f080b4a0",
   "metadata": {},
   "outputs": [],
   "source": [
    "fig, ax = plt.subplots(figsize=(10, 8))\n",
    "tract_geom_gdf.plot(ax=ax, edgecolor=\"black\", facecolor = 'none')\n",
    "gdf.plot(column=\"score\", cmap=\"viridis\", edgecolor=\"black\", legend=True, ax=ax)\n",
    "ax.set_title(\"Optimal Land Parcels\")"
   ]
  },
  {
   "cell_type": "code",
   "execution_count": null,
   "id": "11732dfb-b838-4c67-b40f-c3645c5ef1fa",
   "metadata": {},
   "outputs": [],
   "source": [
    "scale_filtered = scale_filtered.rio.reproject(proj_str_aea)"
   ]
  },
  {
   "cell_type": "code",
   "execution_count": null,
   "id": "a7a6100c-b72d-478c-b0ce-67ec8f812d21",
   "metadata": {},
   "outputs": [],
   "source": [
    "# Import necessary libraries\n",
    "import numpy as np\n",
    "import xarray as xr\n",
    "import geopandas as gpd\n",
    "from shapely.geometry import box\n",
    "from scipy.ndimage import label\n",
    "\n",
    "# Define constants\n",
    "TARGET_AREA_M2 = 80937.1  # Example: area for 100 acres in m²\n",
    "\n",
    "# Calculate resolution\n",
    "res_x = np.abs(ds.x[1] - ds.x[0])\n",
    "res_y = np.abs(ds.y[1] - ds.y[0])\n",
    "cell_area = res_x * res_y\n",
    "target_cells = int(TARGET_AREA_M2 / cell_area)\n",
    "\n",
    "# Create a binary mask\n",
    "net_score = ds.net_score_weighted.values\n",
    "binary_mask = np.where(~np.isnan(net_score), 1, 0)\n",
    "\n",
    "# Label regions\n",
    "labeled_array, num_features = label(binary_mask)\n",
    "\n",
    "# Store results\n",
    "results = []\n",
    "\n",
    "# Iterate through labeled regions\n",
    "for region_id in range(1, num_features + 1):\n",
    "    region_mask = labeled_array == region_id\n",
    "    \n",
    "    if np.sum(region_mask) < target_cells:\n",
    "        continue\n",
    "    \n",
    "    y_indices, x_indices = np.where(region_mask)\n",
    "    x_min_idx, x_max_idx = np.min(x_indices), np.max(x_indices)\n",
    "    y_min_idx, y_max_idx = np.min(y_indices), np.max(y_indices)\n",
    "    \n",
    "    if (x_max_idx - x_min_idx) < 10:\n",
    "        continue\n",
    "\n",
    "    # Convert to spatial coordinates\n",
    "    x_min, x_max = ds.x[x_min_idx].values, ds.x[x_max_idx].values\n",
    "    y_min, y_max = ds.y[y_max_idx].values, ds.y[y_min_idx].values\n",
    "    \n",
    "    geom = box(x_min, y_min, x_max, y_max)\n",
    "    score = np.nansum(net_score[region_mask])\n",
    "    \n",
    "    results.append({\"score\": score, \"geometry\": geom})\n",
    "\n",
    "# Create GeoDataFrame\n",
    "gdf = gpd.GeoDataFrame(results, columns=[\"score\", \"geometry\"], crs=4326)\n",
    "\n",
    "# Print summary\n",
    "print(gdf.head())"
   ]
  },
  {
   "cell_type": "code",
   "execution_count": null,
   "id": "2ac24a77-79cf-45da-b906-a83cb532bded",
   "metadata": {},
   "outputs": [],
   "source": [
    "f, ax = plt.subplots(figsize=(9,6))\n",
    "gdf.plot(column=\"score\", cmap=\"viridis\", edgecolor=\"black\", legend=True, ax=ax)\n",
    "ax.set_aspect('equal')  # Fix aspect ratio to be equal\n",
    "plt.show()"
   ]
  },
  {
   "cell_type": "code",
   "execution_count": null,
   "id": "976037ea-17d5-4a3a-8434-25089068ad37",
   "metadata": {},
   "outputs": [],
   "source": [
    "ds = scale_filtered\n",
    "\n",
    "import numpy as np\n",
    "import xarray as xr\n",
    "import geopandas as gpd\n",
    "from shapely.geometry import box\n",
    "\n",
    "# Load your dataset (assuming it's already loaded as 'ds')\n",
    "# ds = xr.open_dataset(\"your_dataset.nc\")  # Uncomment if loading from a file\n",
    "\n",
    "# Convert 200 acres to square meters\n",
    "TARGET_AREA_M2 = 809372\n",
    "\n",
    "# Get spatial resolution\n",
    "res_x = np.abs(ds.x[1] - ds.x[0])  # Grid cell width\n",
    "res_y = np.abs(ds.y[1] - ds.y[0])  # Grid cell height\n",
    "cell_area = res_x * res_y\n",
    "\n",
    "# Calculate target number of grid cells\n",
    "target_cells = int(TARGET_AREA_M2 / cell_area)\n",
    "\n",
    "# Possible aspect ratios (width, height)\n",
    "aspect_ratios = [(1, 1), (2, 1), (1, 2), (4, 1), (1, 4)]  # Can be adjusted\n",
    "\n",
    "# Get net score array\n",
    "net_score = ds.net_score_weighted.values\n",
    "\n",
    "# List to store results\n",
    "results = []\n",
    "\n",
    "# Iterate over aspect ratios\n",
    "for w_ratio, h_ratio in aspect_ratios:\n",
    "    width_cells = int(np.sqrt(target_cells * w_ratio / h_ratio))\n",
    "    height_cells = int(target_cells / width_cells)\n",
    "    \n",
    "    # Ensure valid size\n",
    "    if width_cells <= 0 or height_cells <= 0:\n",
    "        continue\n",
    "    \n",
    "    # Sliding window search\n",
    "    for i in range(net_score.shape[0] - height_cells + 1):\n",
    "        for j in range(net_score.shape[1] - width_cells + 1):\n",
    "            \n",
    "            # Extract rectangle and compute score\n",
    "            score = np.nansum(net_score[i:i+height_cells, j:j+width_cells])\n",
    "            \n",
    "            # Ensure indices are within bounds\n",
    "            x_max_idx = min(j + width_cells, len(ds.x) - 1)\n",
    "            y_max_idx = min(i + height_cells, len(ds.y) - 1)\n",
    "            \n",
    "            # Get coordinates safely\n",
    "            x_min, x_max = ds.x[j].values, ds.x[x_max_idx].values\n",
    "            y_min, y_max = ds.y[y_max_idx].values, ds.y[i].values\n",
    "            \n",
    "            # Create geometry\n",
    "            geom = box(x_min, y_min, x_max, y_max)\n",
    "            \n",
    "            # Store result\n",
    "            results.append({\"score\": score, \"geometry\": geom})\n",
    "\n",
    "# Convert results to a GeoDataFrame\n",
    "gdf = gpd.GeoDataFrame(results, columns=[\"score\", \"geometry\"], crs=\"EPSG:4326\")  # Adjust CRS as needed\n",
    "\n",
    "# Print summary\n",
    "print(gdf.head())"
   ]
  },
  {
   "cell_type": "markdown",
   "id": "e406946c-0fd2-490a-bb69-3323fd6578ee",
   "metadata": {},
   "source": [
    "# Random Plots"
   ]
  },
  {
   "cell_type": "code",
   "execution_count": null,
   "id": "9d20b24f-85e0-4eb8-804d-f3dc6171da15",
   "metadata": {},
   "outputs": [],
   "source": [
    "# colors = {\n",
    "#     1: 'lightblue',   # water/snow\n",
    "#     2: 'sienna',      # urban\n",
    "#     3: 'red', # farm\n",
    "#     4: 'forestgreen', # forests\n",
    "#     5: 'red',         # bare\n",
    "#     6: 'red'          # grasslands\n",
    "# }\n",
    "\n",
    "# cmap = mcolors.ListedColormap([colors[i] for i in range(1, 7)])\n",
    "\n",
    "# norm = mcolors.BoundaryNorm(np.arange(0.5, 7.5, 1), cmap.N)\n",
    "\n",
    "# fig, ax = plt.subplots(figsize=(9, 6))\n",
    "# im = land_classes.plot.imshow(ax=ax, cmap=cmap, norm=norm, add_colorbar=False)\n",
    "\n",
    "# legend_patches = [\n",
    "#     Patch(color=colors[1], label='Water & Snow'),\n",
    "#     Patch(color=colors[2], label='Urban Areas'),\n",
    "#     Patch(color=colors[3], label='Farm Land'),\n",
    "#     Patch(color=colors[4], label='Forest Cover'),\n",
    "#     Patch(color=colors[5], label='Bare Areas'),\n",
    "#     Patch(color=colors[6], label='Grasslands')\n",
    "# ]\n",
    "\n",
    "# tract_geom_gdf.plot(ax=ax, edgecolor=\"black\", facecolor = 'none')\n",
    "# ax.legend(handles=legend_patches, bbox_to_anchor=(1, 1), loc='upper left', title='Land Use Classes')\n",
    "# ax.set_title('Land Cover')\n",
    "\n",
    "# plt.show()"
   ]
  },
  {
   "cell_type": "code",
   "execution_count": null,
   "id": "b4313ab7-1c40-4ffb-93ad-25cc0b057414",
   "metadata": {},
   "outputs": [],
   "source": [
    "# fig,ax = plt.subplots()\n",
    "\n",
    "# radiation.plot.imshow(ax=ax)\n",
    "# tract_geom_gdf.plot(ax=ax, edgecolor=\"black\", facecolor = 'none')\n",
    "\n",
    "# plt.title(\"Spokane UV Map\")\n",
    "# plt.show()"
   ]
  },
  {
   "cell_type": "code",
   "execution_count": null,
   "id": "ccf93da0-496a-4a12-942b-b1fec2a0c5b7",
   "metadata": {},
   "outputs": [],
   "source": [
    "# fig,ax = plt.subplots(figsize=(9,7))\n",
    "\n",
    "# substation_distance_raster_data.plot(ax=ax)\n",
    "# tract_geom_gdf.plot(ax=ax, edgecolor=\"black\", facecolor = 'none')\n",
    "\n",
    "# substation_gdf.plot(ax=ax, color='red', edgecolor='k',alpha=0.7)\n",
    "\n",
    "# plt.suptitle('Substation distance')"
   ]
  },
  {
   "cell_type": "code",
   "execution_count": null,
   "id": "e27e0105-d9dc-439e-a1ab-d88545bcf582",
   "metadata": {},
   "outputs": [],
   "source": [
    "# fig,ax = plt.subplots()\n",
    "# tract_geom_gdf.plot(ax=ax, edgecolor=\"black\", facecolor = 'none')\n",
    "# census_Spokane_gdf.plot(ax=ax, column=\"TotalPopulation\")\n",
    "# plt.title(\"Population Density\")\n",
    "# plt.show()"
   ]
  },
  {
   "cell_type": "code",
   "execution_count": null,
   "id": "61ec7388-3bcf-4002-b7f5-344ac290fc7d",
   "metadata": {},
   "outputs": [],
   "source": [
    "# fig,ax = plt.subplots()\n",
    "\n",
    "# slope_Spokane.plot.imshow(ax=ax, alpha=0.75, vmin=0, vmax = 40,cmap=\"magma_r\")\n",
    "# tract_geom_gdf.plot(ax=ax, edgecolor=\"black\", facecolor = 'none')\n",
    "# plt.title(\"Spokane County Slope Map\")\n",
    "# plt.show()"
   ]
  },
  {
   "cell_type": "code",
   "execution_count": null,
   "id": "3fb8f876-bfc0-4c1b-9873-69c915c77888",
   "metadata": {},
   "outputs": [],
   "source": [
    "# f,ax=plt.subplots()\n",
    "# floodplains_gdf.plot(ax=ax)\n",
    "# tract_geom_gdf.plot(ax=ax, edgecolor=\"black\", facecolor = 'none')"
   ]
  },
  {
   "cell_type": "code",
   "execution_count": null,
   "id": "af8568b9-2696-4fc3-9b74-d81d8ef9ea5f",
   "metadata": {},
   "outputs": [],
   "source": [
    "# fig,ax = plt.subplots()\n",
    "\n",
    "# #floodplains_gdf.plot(ax=ax)\n",
    "# tract_geom_gdf.plot(ax=ax, edgecolor=\"black\", facecolor = 'none')\n",
    "# slope_Spokane.plot.imshow(ax=ax, alpha=0.5, vmin=0, vmax = 40,cmap=\"magma_r\")\n",
    "\n",
    "# plt.title(\"Spokane County: Flood Plain Overlapped with Flood Plains\")\n",
    "# plt.show()"
   ]
  },
  {
   "cell_type": "code",
   "execution_count": null,
   "id": "09bcbb65-8d48-497b-9f8f-7bc1536f51cb",
   "metadata": {},
   "outputs": [],
   "source": [
    "# fig,ax = plt.subplots()\n",
    "\n",
    "# tract_geom_gdf.plot(ax=ax, edgecolor=\"black\", facecolor = 'none')\n",
    "# substation_gdf.plot(ax=ax, color='blue', edgecolor='black')\n",
    "\n",
    "# plt.title('Substations in Washington (WA)')"
   ]
  },
  {
   "cell_type": "code",
   "execution_count": null,
   "id": "2ae8c2c7-3255-4eb6-932f-92d63a61e52a",
   "metadata": {},
   "outputs": [],
   "source": [
    "# fig,ax = plt.subplots()\n",
    "\n",
    "# substation_gdf.plot(ax=ax, color='blue', edgecolor='black')\n",
    "# radiation.plot.imshow(ax = ax, alpha=0.75)\n",
    "# floodplains_gdf.plot(ax=ax)\n",
    "# tract_geom_gdf.plot(ax=ax, edgecolor=\"black\", facecolor = 'none')\n",
    "# slope_Spokane.plot.imshow(ax=ax, alpha=0.5, vmin=0, vmax = 40,cmap=\"magma_r\")"
   ]
  },
  {
   "cell_type": "code",
   "execution_count": null,
   "id": "ac314ed5-48ea-433f-b9ae-85a7e59ef7e0",
   "metadata": {},
   "outputs": [],
   "source": [
    "# fig,ax = plt.subplots()\n",
    "\n",
    "# floodplain_binary_data.plot(ax = ax)\n",
    "# tract_geom_gdf.plot(ax = ax, edgecolor=\"black\", facecolor = 'none')"
   ]
  },
  {
   "cell_type": "code",
   "execution_count": null,
   "id": "30474d04-ccb7-46b6-9f23-f2ecc4d1c8e5",
   "metadata": {},
   "outputs": [],
   "source": []
  },
  {
   "cell_type": "code",
   "execution_count": null,
   "id": "49f62073-4528-40d2-94e7-a082b23217f6",
   "metadata": {},
   "outputs": [],
   "source": []
  },
  {
   "cell_type": "code",
   "execution_count": null,
   "id": "77d1a955-d3de-4c41-a056-2e3ebd80fb3a",
   "metadata": {},
   "outputs": [],
   "source": []
  },
  {
   "cell_type": "code",
   "execution_count": null,
   "id": "b5c4bf47-1d63-456a-abbf-ce1cdcbc7cc3",
   "metadata": {},
   "outputs": [],
   "source": []
  }
 ],
 "metadata": {
  "kernelspec": {
   "display_name": "Python 3 (ipykernel)",
   "language": "python",
   "name": "python3"
  },
  "language_info": {
   "codemirror_mode": {
    "name": "ipython",
    "version": 3
   },
   "file_extension": ".py",
   "mimetype": "text/x-python",
   "name": "python",
   "nbconvert_exporter": "python",
   "pygments_lexer": "ipython3",
   "version": "3.11.6"
  }
 },
 "nbformat": 4,
 "nbformat_minor": 5
}
